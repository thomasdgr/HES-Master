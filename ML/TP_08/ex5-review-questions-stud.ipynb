{
 "cells": [
  {
   "cell_type": "markdown",
   "id": "d07f854c",
   "metadata": {},
   "source": [
    "# PW8 - Exercise 5 - Review Questions"
   ]
  },
  {
   "cell_type": "markdown",
   "id": "07f9abb1",
   "metadata": {},
   "source": [
    "## a) Re-explain in your own words the steps of the K-Means algorithm."
   ]
  },
  {
   "cell_type": "markdown",
   "id": "c871d20c",
   "metadata": {},
   "source": [
    "1) Define a number K representing the number of o clusters.\n",
    "2) Initializes centroids of cluster with the chosen method. It means to assign coordinates to each centroids\n",
    "3) Repeat until loss is low enough:\n",
    "\n",
    "    4) Assign to each point the cluster for which the centroid is the nearest.\n",
    "   \n",
    "    5) Replace centroids by the new gravity center of the corresponding cluster."
   ]
  },
  {
   "cell_type": "markdown",
   "id": "2f8288da",
   "metadata": {},
   "source": [
    "## b) Are we guaranteed to observe a decreasing distortion J from one epoch to the other in the K-Means ?"
   ]
  },
  {
   "cell_type": "markdown",
   "id": "131ed82c",
   "metadata": {},
   "source": [
    "As we compute a sum of distances for J and the distance for each point with their centroids will at least stay the same or getting lower through the epochs, then the sum will decrease or stay the same at epoch i+1. Mathematically, the sum will decrease for sure as the distortion J."
   ]
  },
  {
   "cell_type": "markdown",
   "id": "323d614f",
   "metadata": {},
   "source": [
    "## c) For two different initial values of the centroids in the K-Means, can we get different end values of the distortion J ? Argument your answer."
   ]
  },
  {
   "cell_type": "markdown",
   "id": "84a47dd4",
   "metadata": {},
   "source": [
    "We know the algorithm converges anyway but not at the same speed and not to the same result. However the distortion will remain the same because this is a sum of distance to each points with their centroid. Even if the position of the centroid changes, the sum of the distance will not be impact as we minimize the distance with each points every time."
   ]
  },
  {
   "cell_type": "markdown",
   "id": "2f223bb3",
   "metadata": {},
   "source": [
    "## d) Can the K-Means be used as a compression algorithm ? Compute the compression ratio for a setting with 256 centroids and an input space at two dimensions ($x_1$, $x_2$) encoded in float32."
   ]
  },
  {
   "cell_type": "markdown",
   "id": "a7f7ae52",
   "metadata": {},
   "source": [
    "Yes K-Means can be used as compression algorithm. We can use the label of the cluster instead of the input data."
   ]
  },
  {
   "cell_type": "markdown",
   "id": "e34dab83",
   "metadata": {},
   "source": [
    "## e) What is the use of the elbow method ? Explain it in your own words."
   ]
  },
  {
   "cell_type": "markdown",
   "id": "88f8648e",
   "metadata": {},
   "source": [
    "The elbow method is used to find the minimal number of clusters that slove the better the clustering problem. In practice, we find this number at the cross between a big decrease of J followed by a small one. This show that increasing the number of clusters do not help to decrease the distortion that much and we can keep the current number of clusters."
   ]
  },
  {
   "cell_type": "markdown",
   "id": "c0206d1d",
   "metadata": {},
   "source": [
    "## f) Give an example where we would know in advance the number of clusters we want to discover with a clustering algorithm."
   ]
  },
  {
   "cell_type": "markdown",
   "id": "3948c3ba",
   "metadata": {},
   "source": [
    "It's interesting to know in advance the number of clusters. We can focus on the inputs to let possibly appear wanted clusters. For example, if we have a dataset containing data of men and women and want to see the distinction between them, we will choose inputs like hair length. "
   ]
  },
  {
   "cell_type": "markdown",
   "id": "91b04b3b",
   "metadata": {},
   "source": [
    "## g) It is possible to compute the distortion $J_k$ for a given centroid k. If we observe that the distortion $J_k$ for centroid k is really bigger than the other distortions and that the number of points $N_k$ associated to this centroid is also bigger than for the other centroids, what can we say about the dataset and cluster k of points ? Could you suggest a strategy to make things better ?"
   ]
  },
  {
   "cell_type": "markdown",
   "id": "4c118765",
   "metadata": {},
   "source": [
    "If all the points from the dataset are very far from each other, and we use a few number of custers, this could end up by a first centroid close to few points of the dataset and an other one that contains way more points but all very far from their centroid. The solution would be to increase the number of clusters to reduce the distance for each points with their centroid, or to normalize the data to bring them closer and reduce the distance too."
   ]
  }
 ],
 "metadata": {
  "kernelspec": {
   "display_name": "Python 3",
   "language": "python",
   "name": "python3"
  },
  "language_info": {
   "codemirror_mode": {
    "name": "ipython",
    "version": 3
   },
   "file_extension": ".py",
   "mimetype": "text/x-python",
   "name": "python",
   "nbconvert_exporter": "python",
   "pygments_lexer": "ipython3",
   "version": "3.9.13 (main, May 23 2022, 22:01:06) \n[GCC 9.4.0]"
  },
  "vscode": {
   "interpreter": {
    "hash": "f9f85f796d01129d0dd105a088854619f454435301f6ffec2fea96ecbd9be4ac"
   }
  }
 },
 "nbformat": 4,
 "nbformat_minor": 5
}
