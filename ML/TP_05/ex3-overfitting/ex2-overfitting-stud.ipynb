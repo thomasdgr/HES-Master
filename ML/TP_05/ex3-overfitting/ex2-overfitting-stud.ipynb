{
 "cells": [
  {
   "cell_type": "markdown",
   "metadata": {},
   "source": [
    "Thomas Dagier, Quentin Rod"
   ]
  },
  {
   "cell_type": "markdown",
   "metadata": {},
   "source": [
    "# Exercise 3 - Linear regression optimisation"
   ]
  },
  {
   "cell_type": "code",
   "execution_count": 2,
   "metadata": {
    "pycharm": {
     "is_executing": false,
     "name": "#%%\n"
    }
   },
   "outputs": [],
   "source": [
    "import numpy as np\n",
    "import matplotlib.pyplot as plt\n",
    "import pandas as pd"
   ]
  },
  {
   "cell_type": "code",
   "execution_count": 3,
   "metadata": {
    "pycharm": {
     "is_executing": false,
     "name": "#%%\n"
    }
   },
   "outputs": [],
   "source": [
    "dataset_train = pd.read_csv('overfitting_train.csv')\n",
    "dataset_test = pd.read_csv('overfitting_test.csv')"
   ]
  },
  {
   "cell_type": "markdown",
   "metadata": {},
   "source": [
    "a) Read the data in separate variables for the training and test sets."
   ]
  },
  {
   "cell_type": "code",
   "execution_count": 4,
   "metadata": {},
   "outputs": [
    {
     "data": {
      "text/html": [
       "<div>\n",
       "<style scoped>\n",
       "    .dataframe tbody tr th:only-of-type {\n",
       "        vertical-align: middle;\n",
       "    }\n",
       "\n",
       "    .dataframe tbody tr th {\n",
       "        vertical-align: top;\n",
       "    }\n",
       "\n",
       "    .dataframe thead th {\n",
       "        text-align: right;\n",
       "    }\n",
       "</style>\n",
       "<table border=\"1\" class=\"dataframe\">\n",
       "  <thead>\n",
       "    <tr style=\"text-align: right;\">\n",
       "      <th></th>\n",
       "      <th>x</th>\n",
       "      <th>y</th>\n",
       "    </tr>\n",
       "  </thead>\n",
       "  <tbody>\n",
       "    <tr>\n",
       "      <th>0</th>\n",
       "      <td>-1.000000</td>\n",
       "      <td>-1.859783</td>\n",
       "    </tr>\n",
       "    <tr>\n",
       "      <th>1</th>\n",
       "      <td>0.333333</td>\n",
       "      <td>2.768337</td>\n",
       "    </tr>\n",
       "    <tr>\n",
       "      <th>2</th>\n",
       "      <td>1.666667</td>\n",
       "      <td>3.246021</td>\n",
       "    </tr>\n",
       "    <tr>\n",
       "      <th>3</th>\n",
       "      <td>3.000000</td>\n",
       "      <td>1.784168</td>\n",
       "    </tr>\n",
       "    <tr>\n",
       "      <th>4</th>\n",
       "      <td>4.333333</td>\n",
       "      <td>2.175140</td>\n",
       "    </tr>\n",
       "  </tbody>\n",
       "</table>\n",
       "</div>"
      ],
      "text/plain": [
       "          x         y\n",
       "0 -1.000000 -1.859783\n",
       "1  0.333333  2.768337\n",
       "2  1.666667  3.246021\n",
       "3  3.000000  1.784168\n",
       "4  4.333333  2.175140"
      ]
     },
     "execution_count": 4,
     "metadata": {},
     "output_type": "execute_result"
    }
   ],
   "source": [
    "dataset_train.head()"
   ]
  },
  {
   "cell_type": "code",
   "execution_count": 5,
   "metadata": {},
   "outputs": [],
   "source": [
    "X_train = dataset_train['x'].values\n",
    "y_train = dataset_train['y'].values\n",
    "X_test = dataset_test['x'].values\n",
    "y_test = dataset_test['y'].values"
   ]
  },
  {
   "cell_type": "code",
   "execution_count": 6,
   "metadata": {},
   "outputs": [
    {
     "data": {
      "image/png": "[encoded data removed]",
      "text/plain": [
       "<Figure size 1200x600 with 1 Axes>"
      ]
     },
     "metadata": {},
     "output_type": "display_data"
    }
   ],
   "source": [
    "plt.figure(figsize=(12,6))\n",
    "plt.grid(alpha=0.5)\n",
    "plt.scatter(X_train, y_train)\n",
    "plt.scatter(X_test, y_test)\n",
    "plt.legend(['train', 'test']);"
   ]
  },
  {
   "cell_type": "markdown",
   "metadata": {},
   "source": [
    "b) Define a cost function\n",
    "$J(θ)$\n",
    "that will allow you to compute the cost on the training and\n",
    "cross-validation sets.\n",
    "\n",
    "\n",
    "$$J(\\theta) = \\frac{1}{2N} \\sum_{n=1}^{N} (h_{\\theta}(\\mathbf{x}_{n}) - y_{n})^{2}$$\n",
    "\n",
    "where $h_{\\theta}(\\mathbf{x}_{n})$ is your prediction."
   ]
  },
  {
   "cell_type": "code",
   "execution_count": 7,
   "metadata": {
    "pycharm": {
     "is_executing": false,
     "name": "#%%\n"
    }
   },
   "outputs": [],
   "source": [
    "def compute_cost(y_pred, y_true):\n",
    "    N = y_pred.shape[0]\n",
    "    return (1.0 / (2.0 * N)) * np.sum((y_pred - y_true)**2)"
   ]
  },
  {
   "cell_type": "markdown",
   "metadata": {},
   "source": [
    "c) Perform the training for increasing orders $O= 1 ,..., 10$.\n",
    "\n",
    "You can use any training method developed in the previous practical work. Using the [normal equation](http://mlwiki.org/index.php/Normal_Equation) is probably the easiest choice."
   ]
  },
  {
   "cell_type": "code",
   "execution_count": 26,
   "metadata": {
    "pycharm": {
     "is_executing": false,
     "name": "#%%\n"
    }
   },
   "outputs": [],
   "source": [
    "# TODO: implement the training method. The pseudo-code here is mostly for the normal equation. Adapt to your needs.\n",
    "\n",
    "def train(X_train: np.array, y_train: np.array, order: float) -> np.array:\n",
    "    thetas = fit(X_train, y_train, order)\n",
    "    return thetas\n",
    "\n",
    "def fit(X_train: np.array, y_train: np.array, order: float) -> np.array:\n",
    "\n",
    "    X_design = np.ones(X_train.shape[0]) #1st column (x0) is full of 1\n",
    "    for i in range(1, order + 1):\n",
    "        X_design = np.c_[X_design, np.power(X_train, i)] #Add column of each power. \n",
    "\n",
    "    thetas = np.linalg.inv(X_design.T.dot(X_design)).dot(X_design.T).dot(y_train)\n",
    "\n",
    "    return thetas\n",
    "\n",
    "def predict(thetas: np.array, X: np.array) -> np.array:\n",
    "    y_pred = 0\n",
    "    for i in range(len(thetas)):\n",
    "        y_pred += thetas[i] * X**i\n",
    "        \n",
    "    return y_pred"
   ]
  },
  {
   "cell_type": "code",
   "execution_count": 37,
   "metadata": {
    "pycharm": {
     "is_executing": false,
     "name": "#%%\n"
    }
   },
   "outputs": [
    {
     "name": "stdout",
     "output_type": "stream",
     "text": [
      "[1. 2. 3. 4. 5. 6. 7. 8. 9.]\n",
      "Order=1; cost on train set: 1.41; cost on test set: 1.68\n",
      "Order=2; cost on train set: 1.35; cost on test set: 1.61\n",
      "Order=3; cost on train set: 1.31; cost on test set: 1.54\n",
      "Order=4; cost on train set: 0.20; cost on test set: 1.03\n",
      "Order=5; cost on train set: 0.20; cost on test set: 0.98\n",
      "Order=6; cost on train set: 0.14; cost on test set: 2.19\n",
      "Order=7; cost on train set: 0.11; cost on test set: 4.39\n",
      "Order=8; cost on train set: 0.05; cost on test set: 1.52\n",
      "Order=9; cost on train set: 0.00; cost on test set: 137.78\n"
     ]
    },
    {
     "data": {
      "image/png": "[encoded data removed]",
      "text/plain": [
       "<Figure size 1200x600 with 1 Axes>"
      ]
     },
     "metadata": {},
     "output_type": "display_data"
    }
   ],
   "source": [
    "plt.figure(figsize=(12,6))\n",
    "plt.grid(alpha=0.5)\n",
    "plt.scatter(X_train, y_train)\n",
    "plt.scatter(X_test, y_test)\n",
    "\n",
    "min_order = 1 #As the prediction formula doesn't work with order 0, we begin at 1\n",
    "max_order = 9\n",
    "x_axis = np.linspace(min_order, max_order, num=max_order)\n",
    "\n",
    "train_cost_curve = []\n",
    "test_cost_curve = []\n",
    "for order in range(min_order,max_order + 1):\n",
    "    thetas = train(X_train, y_train, order)\n",
    "    \n",
    "    # Test on train set\n",
    "    y_pred = predict(thetas, X_train)\n",
    "    cost_train = compute_cost(y_pred, y_train)\n",
    "    train_cost_curve.append(cost_train)\n",
    "\n",
    "    # Test on test set\n",
    "    y_pred_test = predict(thetas, X_test)\n",
    "    cost_test = compute_cost(y_pred_test, y_test)\n",
    "    test_cost_curve.append(cost_test)\n",
    "\n",
    "\n",
    "    print(f\"Order={order}; cost on train set: {cost_train:.2f}; cost on test set: {cost_test:.2f}\")\n",
    "plt.legend([f\"Order {i}\" for i in range(10)]);"
   ]
  },
  {
   "cell_type": "markdown",
   "metadata": {},
   "source": [
    "e) Plot the evolution of the costs\n",
    "$J_{train}(θ)$ and $J_{cv}(θ)$\n",
    "as a function of the order O."
   ]
  },
  {
   "cell_type": "code",
   "execution_count": 38,
   "metadata": {
    "pycharm": {
     "is_executing": false,
     "name": "#%%\n"
    }
   },
   "outputs": [
    {
     "data": {
      "image/png": "[encoded data removed]",
      "text/plain": [
       "<Figure size 1200x600 with 1 Axes>"
      ]
     },
     "metadata": {},
     "output_type": "display_data"
    }
   ],
   "source": [
    "plt.figure(figsize=(12,6))\n",
    "plt.grid(alpha=0.5)\n",
    "plt.plot(x_axis, train_cost_curve) #We adjust x axis as we cannot begin at order 0\n",
    "plt.plot(x_axis, test_cost_curve)  #We adjust x axis as we cannot begin at order 0\n",
    "plt.ylim(-3, 15)\n",
    "plt.legend(['train', 'test']);\n",
    "\n",
    "# TODO: or adapt to your own method of costs computation\n",
    "def compute_cost(y_pred, y_true):\n",
    "    N = y_pred.shape[0]\n",
    "    return (1.0 / (2.0 * N)) * np.sum((y_pred - y_true)**2)"
   ]
  },
  {
   "cell_type": "markdown",
   "metadata": {},
   "source": [
    "**f) What is your best model according to these costs ? Comment your answer.**"
   ]
  },
  {
   "cell_type": "markdown",
   "metadata": {},
   "source": [
    "The best model is where the test cost is minimal, so with order=5."
   ]
  },
  {
   "cell_type": "markdown",
   "metadata": {},
   "source": [
    "**g) Would you still choose the model with the lowest cost for production?**"
   ]
  },
  {
   "cell_type": "markdown",
   "metadata": {},
   "source": [
    "Yes with the lowest test cost but not with the lowest train cost."
   ]
  },
  {
   "cell_type": "markdown",
   "metadata": {
    "pycharm": {
     "name": "#%%\n"
    }
   },
   "source": [
    "**h) Explain how under/over-fitting is involved here.**"
   ]
  },
  {
   "cell_type": "markdown",
   "metadata": {},
   "source": [
    "**Over-fitting**\n",
    "When the model is too strong, like with order 9, the train cost is very small but the test cost is big.\n",
    "\n",
    "**Under-fitting**\n",
    "When the model is under-fitted, test cost can be reduced. It's the case for order 1,2,3 and 4."
   ]
  }
 ],
 "metadata": {
  "kernelspec": {
   "display_name": "Python 3.10.6 64-bit",
   "language": "python",
   "name": "python3"
  },
  "language_info": {
   "codemirror_mode": {
    "name": "ipython",
    "version": 3
   },
   "file_extension": ".py",
   "mimetype": "text/x-python",
   "name": "python",
   "nbconvert_exporter": "python",
   "pygments_lexer": "ipython3",
   "version": "3.10.6"
  },
  "pycharm": {
   "stem_cell": {
    "cell_type": "raw",
    "metadata": {
     "collapsed": false
    },
    "source": []
   }
  },
  "vscode": {
   "interpreter": {
    "hash": "e7370f93d1d0cde622a1f8e1c04877d8463912d04d973331ad4851f04de6915a"
   }
  }
 },
 "nbformat": 4,
 "nbformat_minor": 1
}
