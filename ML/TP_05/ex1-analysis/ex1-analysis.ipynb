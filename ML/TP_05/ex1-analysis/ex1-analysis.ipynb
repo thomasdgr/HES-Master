{
 "cells": [
  {
   "cell_type": "markdown",
   "id": "c586bce3",
   "metadata": {},
   "source": [
    "Thomas Dagier, Quentin Rod"
   ]
  },
  {
   "cell_type": "markdown",
   "id": "33b31583",
   "metadata": {},
   "source": [
    "# Exercise 1 - Analysis"
   ]
  },
  {
   "cell_type": "markdown",
   "id": "51225f27",
   "metadata": {},
   "source": [
    "The bank UBS is offering to its client the possibility to invest money in funds. See https://fundgate.ubs.com/. There are thousands of investment funds available. Clients, according to their profile, will be more or less inclined to invest in a given fund, according to the fund characteristics. For example, a younger client with no child is potentially more interested into funds composed with stocks, showing higher risks but also higher potential returns. A family father will be more inclined to invest into low-risk funds. UBS want to build a system taking as input a set of values characterizing the fund and a set of values defining the client profile.\n",
    "\n",
    "An investment fund can be characterized by the following elements: \n",
    "\n",
    "- The name of the fund.\n",
    "- The current value of 1 share in the fund, expressed in CHF.\n",
    "- The proportion of stock and bonds composing the fund (2 values in percentage).\n",
    "- A vector of float values with the 5 last yearly returns over years from 2015 to 2019 (5 values expressed in percentage).\n",
    "- A level of risk expressed with A, B, C, D, E with A representing the highest risk and E representing the lowest risk level.\n",
    "- A sectorial information such as technology, pharmaceutical, financial. There are 24 different sectors available in UBS funds.\n",
    "\n",
    "A client profile contains the following information: \n",
    "\n",
    "- First name and last name of the client.\n",
    "- The mother tongue of the client (mostly de, fr, it and en but other languages are present).\n",
    "- The age of the client.\n",
    "- The number of children of the client.\n",
    "- The current wealth of the client that could be used to buy funds, expressed in CHF (total of cash available in the different accounts, not yet invested in funds).\n",
    "- The postal code of the address of the client.\n",
    "- A level of acceptance to risk expressed with A, B, C, D, E with A representing the highest level of acceptance of risk and E representing the lowest acceptance of risk.\n",
    "\n",
    "Answer the following questions:\n",
    "\n",
    "1. For each available information in the fund and client profile, explain how you would prepare the data: encoding, normalization, outlier treatment, etc.\n",
    "2. How could you collect targets (output of the system) to train the system? How would you prepare the different sets?\n",
    "\n",
    "**Be as comprehensive as possible.** Imagine that you give your analysis to your trainee: he must be able to implement the system from it."
   ]
  },
  {
   "cell_type": "markdown",
   "id": "7cb6b792",
   "metadata": {},
   "source": [
    "---"
   ]
  },
  {
   "cell_type": "markdown",
   "id": "16f4c4b4",
   "metadata": {},
   "source": [
    "**For each available information in the fund and client profile, explain how you would prepare the data: encoding, normalization, outlier treatment, etc.**"
   ]
  },
  {
   "cell_type": "markdown",
   "id": "e1527821",
   "metadata": {},
   "source": [
    "**Investment fund**\n",
    "  Information |   Encoding |   Normalization |   Outlier treatment    | Justification |\n",
    "|:-:          |:-:         |:-:              |--:                     |--:            |\n",
    "|  Name of the fund   |   1 hot encoding  |  Not necessary |  Not necessary  |   No combination between words  |\n",
    "|   Share value (CHF)  |  Not necessary |   Min-Max |   Clipping  |    Some outliers |\n",
    "|   Proportion (2 percentages)   |   Not necessary |   Not necessary |   Not necessary  |   Already between 0 and 1 |\n",
    "|   Last yearly returns (5 percentages)   |   Not necessary |   Not necessary |   Not necessary  |   Already between 0 and 1 |\n",
    "|   Level of risk   |   1 to 5 encoding |   Min-Max |   Not necessary  |   Encoding which preserves the order |\n",
    "|   Name of the sectorial information   |   1 hot encoding |  Not necessary |   Not necessary  |   No order in data |\n",
    "\n",
    "**Client profile**\n",
    "  Information |   Encoding |   Normalization |   Outlier treatment    | Justification |\n",
    "|:-:          |:-:         |:-:              |--:                     |--:            |\n",
    "|  First name and last name |   Word embedding  |   z-norm |  z-norm  |  Combination between words   |\n",
    "|   Mother tongue  |  1 hot encoding |   Not necessary |  Not necessary |    No order in data |\n",
    "|   Age of the client   |   Not necessary |   Min-Max |   Not necessary  |   No outliers with age |\n",
    "|   Number of children   |   Not necessary |   Min-Max |   Clipping  |   Some outliers possible |\n",
    "|   Current wealth (CHF)   |   Not necessary |   Min-Max |  Clipping |   Some outliers|\n",
    "|   Postal code  |   1 hot encoding |  Not necessary |   Not necessary  |   No order in data |\n",
    "   Level of risk   |   1 to 5 encoding |   Min-Max |   Not necessary  |   Encoding which preserves the order |\n"
   ]
  },
  {
   "cell_type": "markdown",
   "id": "c386d8fc",
   "metadata": {},
   "source": [
    "**How could you collect targets (output of the system) to train the system? How would you prepare the different sets?**"
   ]
  },
  {
   "cell_type": "markdown",
   "id": "c579efc9",
   "metadata": {},
   "source": [
    "**Collecting data**\n",
    "- Investing money in funds has to be possible from the internet. Consequently, user has a profile and each transaction has to be stored in a database. Then, we have datas for when an investment is done (output = 1).\n",
    "\n",
    "- Find associations of client profiles and funds in which they will not invest (output = 0) is more diffcult. We can send a survey to all clients where they can give their profile and tick funds in which they will lot invest.\n",
    "\n",
    "**Preparation of the set**\n",
    "- After getting the different input/ouput, we can apply the preparation explained above depending on the data. We can then train the system by giving the list of input (client informations and the investment fund) to predict wether the client bought the fund or not."
   ]
  }
 ],
 "metadata": {
  "kernelspec": {
   "display_name": "Python 3.10.6 64-bit",
   "language": "python",
   "name": "python3"
  },
  "language_info": {
   "codemirror_mode": {
    "name": "ipython",
    "version": 3
   },
   "file_extension": ".py",
   "mimetype": "text/x-python",
   "name": "python",
   "nbconvert_exporter": "python",
   "pygments_lexer": "ipython3",
   "version": "3.10.6"
  },
  "vscode": {
   "interpreter": {
    "hash": "e7370f93d1d0cde622a1f8e1c04877d8463912d04d973331ad4851f04de6915a"
   }
  }
 },
 "nbformat": 4,
 "nbformat_minor": 5
}
