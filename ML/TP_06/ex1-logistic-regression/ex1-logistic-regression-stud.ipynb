{
 "cells": [
  {
   "cell_type": "markdown",
   "id": "7c9c5a60",
   "metadata": {},
   "source": [
    "# Exercise 1 - Classification to predict student admission"
   ]
  },
  {
   "cell_type": "markdown",
   "id": "1daf0e59",
   "metadata": {},
   "source": [
    "## Imports"
   ]
  },
  {
   "cell_type": "code",
   "execution_count": 38,
   "id": "7c28efb9",
   "metadata": {
    "vscode": {
     "languageId": "python"
    }
   },
   "outputs": [],
   "source": [
    "import pandas as pd\n",
    "import numpy as np\n",
    "import matplotlib.pyplot as plt\n",
    "from sklearn.linear_model import SGDClassifier"
   ]
  },
  {
   "cell_type": "markdown",
   "id": "7111aa8b",
   "metadata": {},
   "source": [
    "## Exercise steps"
   ]
  },
  {
   "cell_type": "markdown",
   "id": "bf011d53",
   "metadata": {},
   "source": [
    "### a. Logistic regression classifier with linear decision boundary"
   ]
  },
  {
   "cell_type": "markdown",
   "id": "f46294c8",
   "metadata": {},
   "source": [
    "#### a) Read the data from file"
   ]
  },
  {
   "cell_type": "markdown",
   "id": "595ac345",
   "metadata": {},
   "source": [
    "In a similar way as for the exercise of the previous week, read the training data from file `student-dataset-train.csv`. The first two columns are $x_{1}$ and $x_{2}$. The last column holds the class label $y$. Build the design matrix $X$ as follow:"
   ]
  },
  {
   "cell_type": "markdown",
   "id": "07903ccd",
   "metadata": {},
   "source": [
    "<center>$X = \\left(\\begin{array}{ccc} \n",
    "        1 &   x_{1,1} & x_{1,2} \\\\\n",
    "        1 &   \\vdots  & \\vdots  \\\\\n",
    "        1 &   x_{N,1} & x_{N,2}\n",
    "           \\end{array}\\right)$</center>"
   ]
  },
  {
   "cell_type": "markdown",
   "id": "679d31ec",
   "metadata": {},
   "source": [
    "Check that the shape of $X$ is (100,3) and that the shape of $y$ is (100,)."
   ]
  },
  {
   "cell_type": "code",
   "execution_count": 39,
   "id": "922120d5",
   "metadata": {
    "vscode": {
     "languageId": "python"
    }
   },
   "outputs": [
    {
     "name": "stdout",
     "output_type": "stream",
     "text": [
      "          x1         x2  y\n",
      "0  34.623660  78.024693  0\n",
      "1  30.286711  43.894998  0\n",
      "2  35.847409  72.902198  0\n",
      "3  60.182599  86.308552  1\n",
      "4  79.032736  75.344376  1\n"
     ]
    }
   ],
   "source": [
    "# Your code here\n",
    "def read_data(file):\n",
    "    dataset = pd.read_csv(file, names=['x1','x2','y'])\n",
    "    print(dataset.head())\n",
    "    return dataset[[\"x1\", \"x2\"]], dataset[\"y\"].values\n",
    "\n",
    "X_train, y_train = read_data(\"student-dataset-train.csv\")"
   ]
  },
  {
   "cell_type": "markdown",
   "id": "e5eb2b3e",
   "metadata": {},
   "source": [
    "#### b) Implement a z-norm normalization of the training set"
   ]
  },
  {
   "cell_type": "markdown",
   "id": "dedfd222",
   "metadata": {},
   "source": [
    "You need to store the normalization values $(\\mu, \\sigma)$ for later as they will be needed to normalize the test set."
   ]
  },
  {
   "cell_type": "code",
   "execution_count": 40,
   "id": "814f8bfd",
   "metadata": {
    "vscode": {
     "languageId": "python"
    }
   },
   "outputs": [],
   "source": [
    "# Your code here\n",
    "mu = np.mean(X_train)\n",
    "sigma = np.std(X_train)\n",
    "X_train = (X_train - mu) / sigma\n",
    "\n",
    "X_train = np.c_[np.ones(X_train.shape[0]), X_train]"
   ]
  },
  {
   "cell_type": "markdown",
   "id": "cdf8fced",
   "metadata": {},
   "source": [
    "#### c) Implement a sigmoid function $g(z) = \\frac{1}{1+e^{-z}}$"
   ]
  },
  {
   "cell_type": "markdown",
   "id": "5c6bc4d3",
   "metadata": {},
   "source": [
    "Use numpy to compute the exp so that your function can take numpy arrays as input. Check your implementation by plotting the sigmoid function."
   ]
  },
  {
   "cell_type": "code",
   "execution_count": 41,
   "id": "8f479a61",
   "metadata": {
    "vscode": {
     "languageId": "python"
    }
   },
   "outputs": [
    {
     "data": {
      "image/png": "[encoded data removed]",
      "text/plain": [
       "<Figure size 640x480 with 1 Axes>"
      ]
     },
     "metadata": {},
     "output_type": "display_data"
    }
   ],
   "source": [
    "# Your code here\n",
    "def sigmoid(z):\n",
    "    return 1 / (1 + np.exp(-z))\n",
    "\n",
    "x = np.linspace(-5, 5, 100)\n",
    "y = sigmoid(x)\n",
    "plt.plot(x, y)\n",
    "plt.show()"
   ]
  },
  {
   "cell_type": "markdown",
   "id": "fb3d2958",
   "metadata": {},
   "source": [
    "#### d) Implement the hypothesis function $h_{\\theta}(\\mathbf{x})$"
   ]
  },
  {
   "cell_type": "markdown",
   "id": "b0fb80e2",
   "metadata": {},
   "source": [
    "Hint: implement it so that the computation can take the full array $X$ with $h(\\mathbf{x})$ broadcasted to all training samples."
   ]
  },
  {
   "cell_type": "code",
   "execution_count": 42,
   "id": "9d66dad9",
   "metadata": {
    "vscode": {
     "languageId": "python"
    }
   },
   "outputs": [],
   "source": [
    "# Your code here\n",
    "def predict(X, theta):\n",
    "    return sigmoid(X.dot(theta))"
   ]
  },
  {
   "cell_type": "markdown",
   "id": "6e29c2e3",
   "metadata": {},
   "source": [
    "#### e) Implement the objective function $J(\\theta)$"
   ]
  },
  {
   "cell_type": "markdown",
   "id": "5b12f3ac",
   "metadata": {},
   "source": [
    "<center>$J(\\theta) = \\frac{1}{N} \\sum_{n=1}^{N} y_{n} \\log h_{\\theta}(\\mathbf{x_{n}}) + (1-y_{n}) \\log (1 - h_{\\theta} (\\mathbf{x_{n}}))$</center>"
   ]
  },
  {
   "cell_type": "code",
   "execution_count": 43,
   "id": "edfbb39f",
   "metadata": {
    "vscode": {
     "languageId": "python"
    }
   },
   "outputs": [],
   "source": [
    "# Your code here\n",
    "def cost_function(theta, X, y):\n",
    "    h = np.clip(predict(X, theta), 1e-6, 1 - 1e-6)\n",
    "    return 1 / len(y) * np.sum(y * np.log(h) + (1 - y) * np.log(1 - h))   "
   ]
  },
  {
   "cell_type": "markdown",
   "id": "68cf517b",
   "metadata": {},
   "source": [
    "#### f) Implement the gradient ascent"
   ]
  },
  {
   "cell_type": "markdown",
   "id": "da42fed9",
   "metadata": {},
   "source": [
    "In a similar way as in PW02 and PW03, implement the gradient ascent with the update rule:"
   ]
  },
  {
   "cell_type": "markdown",
   "id": "1b6135d3",
   "metadata": {},
   "source": [
    "<center>$\\theta_{i} \\leftarrow \\theta_{i} + \\alpha \\frac{1}{N} \\sum_{n=1}^{N} (y_{n} - h_{\\theta}(\\mathbf{x}_{n})) x_{n,i}$</center>"
   ]
  },
  {
   "cell_type": "code",
   "execution_count": 44,
   "id": "5277e9aa",
   "metadata": {
    "vscode": {
     "languageId": "python"
    }
   },
   "outputs": [],
   "source": [
    "# Your code here\n",
    "def gradient_ascent(X, y, theta, iterations, alpha, epsilon):\n",
    "    J_history = []\n",
    "    for i in range(iterations):\n",
    "        theta = theta + alpha * (1 / len(y)) * np.sum(np.transpose(X).dot(y - predict(X, theta)))\n",
    "        J_history.append(cost_function(X, y, theta))\n",
    "        if i > 0 and (J_history[i-1] - J_history[i]) / J_history[i] < epsilon:\n",
    "            break\n",
    "    return theta, J_history"
   ]
  },
  {
   "cell_type": "markdown",
   "id": "9993050d",
   "metadata": {},
   "source": [
    "#### g) Test your implementation by running a gradient ascent"
   ]
  },
  {
   "cell_type": "markdown",
   "id": "beeea57c",
   "metadata": {},
   "source": [
    "Hints: use a small $\\alpha$. e.g. $0.001$,  store the evolution of the objective function $J(\\theta)$ during the epochs to make a plot, use a large number of epochs, e.g. $2000000$."
   ]
  },
  {
   "cell_type": "code",
   "execution_count": 45,
   "id": "ad5cd402",
   "metadata": {
    "vscode": {
     "languageId": "python"
    }
   },
   "outputs": [
    {
     "data": {
      "image/png": "[encoded data removed]",
      "text/plain": [
       "<Figure size 640x480 with 1 Axes>"
      ]
     },
     "metadata": {},
     "output_type": "display_data"
    }
   ],
   "source": [
    "# Your code here\n",
    "theta = np.zeros(X_train.shape[1])\n",
    "theta, J_history = gradient_ascent(X_train, y_train, theta, 2000000, 0.001, 0.000001)\n",
    "\n",
    "plt.plot(np.arange(0, len(J_history), 1), J_history, 'r')\n",
    "plt.show()"
   ]
  },
  {
   "cell_type": "markdown",
   "id": "55c6dee7",
   "metadata": {},
   "source": [
    "#### h) Compute the correct classification rate on `student-dataset-test.csv`"
   ]
  },
  {
   "cell_type": "markdown",
   "id": "11206c83",
   "metadata": {},
   "source": [
    "Compute the correct classification rate on `student-dataset-test.csv` after convergence as you have an estimator of the posterior probabilities with:"
   ]
  },
  {
   "cell_type": "markdown",
   "id": "2cd1e565",
   "metadata": {},
   "source": [
    "<center>$P(y_{n}=1|\\mathbf{x_{n}};\\theta) = h_{\\theta}(\\mathbf{x_{n}})$</center>\n",
    "<center>$P(y_{n}=0|\\mathbf{x_{n}};\\theta) = 1 - h_{\\theta}(\\mathbf{x_{n}})$</center>"
   ]
  },
  {
   "cell_type": "markdown",
   "id": "719bfe0a",
   "metadata": {},
   "source": [
    "This means that you can take the decisions $\\hat{y}_{n} = 1$ if $h_{\\theta}(\\mathbf{x_{n}}) \\geq 0.5$ and $\\hat{y}_{n} = 0$ if $h_{\\theta}(\\mathbf{x_{n}}) < 0.5$."
   ]
  },
  {
   "cell_type": "code",
   "execution_count": 46,
   "id": "8a333f9e",
   "metadata": {
    "vscode": {
     "languageId": "python"
    }
   },
   "outputs": [
    {
     "name": "stdout",
     "output_type": "stream",
     "text": [
      "          x1         x2  y\n",
      "0  39.196334  78.530294  0\n",
      "1  40.448499  86.839470  1\n",
      "2  65.571920  44.303497  0\n",
      "3  79.648113  70.806564  1\n",
      "4  66.260221  41.672703  0\n",
      "Accuracy:  0.9\n"
     ]
    }
   ],
   "source": [
    "# Your code here\n",
    "def predict_test(X, theta):\n",
    "    return predict(X, theta) >= 0.5\n",
    "\n",
    "def accuracy(y, y_pred):\n",
    "    return np.sum(y == y_pred) / len(y)\n",
    "\n",
    "X_test, y_test = read_data(\"student-dataset-test.csv\")\n",
    "X_test = (X_test - mu) / sigma\n",
    "X_test = np.c_[np.ones(X_test.shape[0]), X_test]\n",
    "\n",
    "y_pred = predict_test(X_test, theta)\n",
    "print(\"Accuracy: \", accuracy(y_test, y_pred))"
   ]
  },
  {
   "cell_type": "markdown",
   "id": "9de5cb5a",
   "metadata": {},
   "source": [
    "#### i) Draw the decision boundary"
   ]
  },
  {
   "cell_type": "markdown",
   "id": "7fab6839",
   "metadata": {},
   "source": [
    "Draw the decision boundary of your system on top of the scatter plot of the testing data."
   ]
  },
  {
   "cell_type": "code",
   "execution_count": 47,
   "id": "ec0a3e5e",
   "metadata": {
    "vscode": {
     "languageId": "python"
    }
   },
   "outputs": [
    {
     "data": {
      "image/png": "[encoded data removed]",
      "text/plain": [
       "<Figure size 640x480 with 1 Axes>"
      ]
     },
     "metadata": {},
     "output_type": "display_data"
    }
   ],
   "source": [
    "# Your code here\n",
    "def plot_decision_boundary(X, y, theta):\n",
    "    x1 = np.linspace(np.min(X[:, 1]), np.max(X[:, 1]), 100)\n",
    "    x2 = -(theta[0] + theta[1] * x1) / theta[2]\n",
    "    plt.scatter(X[:, 1], X[:, 2], c=y)\n",
    "    plt.plot(x1,x2)\n",
    "    plt.show()\n",
    "\n",
    "plot_decision_boundary(X_test, y_test, theta)"
   ]
  },
  {
   "cell_type": "markdown",
   "id": "c33157fe",
   "metadata": {},
   "source": [
    "#### j) Compare the performance"
   ]
  },
  {
   "cell_type": "markdown",
   "id": "e518484b",
   "metadata": {},
   "source": [
    "Compare the performance of the logistic regression system with the ones of previous's week."
   ]
  },
  {
   "cell_type": "code",
   "execution_count": 48,
   "id": "b628d369",
   "metadata": {
    "vscode": {
     "languageId": "python"
    }
   },
   "outputs": [],
   "source": [
    "# Your observation here"
   ]
  },
  {
   "cell_type": "markdown",
   "id": "29883176",
   "metadata": {},
   "source": [
    "### b. Optional - Stochastic gradient ascent"
   ]
  },
  {
   "cell_type": "markdown",
   "id": "16686a85",
   "metadata": {},
   "source": [
    "Redo the experiments of 2.a with a stochastic gradient ascent."
   ]
  },
  {
   "cell_type": "code",
   "execution_count": 49,
   "id": "01bec6c2",
   "metadata": {
    "vscode": {
     "languageId": "python"
    }
   },
   "outputs": [],
   "source": [
    "# Your code here"
   ]
  },
  {
   "cell_type": "markdown",
   "id": "20885c0a",
   "metadata": {},
   "source": [
    "### c. Logistic regression classifier with non-linear decision boundary"
   ]
  },
  {
   "cell_type": "markdown",
   "id": "cb2e0a1e",
   "metadata": {},
   "source": [
    "Redo the experiments of 2.a by increasing the complexity of the model in order to have a non-linear decision boundary:"
   ]
  },
  {
   "cell_type": "markdown",
   "id": "5ad8f75e",
   "metadata": {},
   "source": [
    "<center>$h_{\\theta}(\\mathbf{x}) = g(\\theta_{0} + \\theta_{1} x_{1} + \\theta_{2} x_{2} + \\theta_{3} x_{1}^{2} + \\theta_{4} x_{2}^{2} + \\theta_{5} x_{1}x_{2} + \\ldots)$</center>"
   ]
  },
  {
   "cell_type": "code",
   "execution_count": 50,
   "id": "dc7851a4",
   "metadata": {
    "vscode": {
     "languageId": "python"
    }
   },
   "outputs": [
    {
     "name": "stdout",
     "output_type": "stream",
     "text": [
      "          x1         x2  y\n",
      "0  34.623660  78.024693  0\n",
      "1  30.286711  43.894998  0\n",
      "2  35.847409  72.902198  0\n",
      "3  60.182599  86.308552  1\n",
      "4  79.032736  75.344376  1\n"
     ]
    },
    {
     "data": {
      "image/png": "[encoded data removed]",
      "text/plain": [
       "<Figure size 640x480 with 1 Axes>"
      ]
     },
     "metadata": {},
     "output_type": "display_data"
    },
    {
     "name": "stdout",
     "output_type": "stream",
     "text": [
      "          x1         x2  y\n",
      "0  39.196334  78.530294  0\n",
      "1  40.448499  86.839470  1\n",
      "2  65.571920  44.303497  0\n",
      "3  79.648113  70.806564  1\n",
      "4  66.260221  41.672703  0\n",
      "Accuracy:  0.75\n"
     ]
    }
   ],
   "source": [
    "# Your code here\n",
    "X_train, y_train = read_data(\"student-dataset-train.csv\")\n",
    "\n",
    "order = 3\n",
    "X_design = np.ones(X_train.shape[0])\n",
    "for i in range(1, order + 1):\n",
    "    X_design = np.c_[X_design, np.power(X_train, i)]\n",
    "X_train = np.copy(X_design)\n",
    "\n",
    "mu = np.mean(X_train)\n",
    "sigma = np.std(X_train)\n",
    "X_train = (X_train - mu) / sigma\n",
    "\n",
    "theta = np.zeros(X_train.shape[1])\n",
    "theta, J_history = gradient_ascent(X_train, y_train, theta, 2000000, 0.001, 0.0000001)\n",
    "\n",
    "plt.plot(np.arange(0, len(J_history), 1), J_history, 'r')\n",
    "plt.show()\n",
    "\n",
    "###\n",
    "\n",
    "X_test, y_test = read_data(\"student-dataset-test.csv\")\n",
    "\n",
    "X_design = np.ones(X_test.shape[0]) #1st column (x0) is full of 1\n",
    "for i in range(1, order + 1):\n",
    "    X_design = np.c_[X_design, np.power(X_test, i)] #Add column of each power. \n",
    "X_test = np.copy(X_design)\n",
    "X_test = (X_test - mu) / sigma\n",
    "\n",
    "y_pred = predict_test(X_test, theta)\n",
    "print(\"Accuracy: \", accuracy(y_test, y_pred))"
   ]
  },
  {
   "cell_type": "markdown",
   "id": "e9995e78",
   "metadata": {},
   "source": [
    "### d. Using SciKit Learn"
   ]
  },
  {
   "cell_type": "markdown",
   "id": "420c64c4",
   "metadata": {},
   "source": [
    "Redo one of the exercise a. or c. using SciKit Learn."
   ]
  },
  {
   "cell_type": "markdown",
   "id": "4c918199",
   "metadata": {},
   "source": [
    "1. Read the documentation of the function `SGDClassifier()` available in the toolkit SciKit Learn. This function implements stochastic gradient descent training for different linear systems such as Logistic Regression. For a logistic regression, the `loss` parameter should be set to `\"log\"`.\n",
    "1. Use the `fit()` and `predict()` methods of this classifier on the student data.\n",
    "1. Compute the performances and compare it to your own implementations."
   ]
  },
  {
   "cell_type": "code",
   "execution_count": 55,
   "id": "627bdd1b",
   "metadata": {
    "vscode": {
     "languageId": "python"
    }
   },
   "outputs": [
    {
     "name": "stdout",
     "output_type": "stream",
     "text": [
      "Accuracy:  0.84\n"
     ]
    },
    {
     "name": "stderr",
     "output_type": "stream",
     "text": [
      "/home/thomas/.local/lib/python3.8/site-packages/sklearn/linear_model/_stochastic_gradient.py:173: FutureWarning: The loss 'log' was deprecated in v1.1 and will be removed in version 1.3. Use `loss='log_loss'` which is equivalent.\n",
      "  warnings.warn(\n"
     ]
    }
   ],
   "source": [
    "# Your code here\n",
    "clf = SGDClassifier(loss=\"log\", max_iter=2000000, tol=0.001)\n",
    "clf.fit(X_train, y_train)\n",
    "\n",
    "y_pred = clf.predict(X_test)\n",
    "print(\"Accuracy: \", accuracy(y_test, y_pred))"
   ]
  }
 ],
 "metadata": {
  "kernelspec": {
   "display_name": "Python 3 (ipykernel)",
   "language": "python",
   "name": "python3"
  },
  "vscode": {
   "interpreter": {
    "hash": "f9f85f796d01129d0dd105a088854619f454435301f6ffec2fea96ecbd9be4ac"
   }
  }
 },
 "nbformat": 4,
 "nbformat_minor": 5
}
