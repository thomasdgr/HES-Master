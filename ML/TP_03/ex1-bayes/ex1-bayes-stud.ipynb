{
 "cells": [
  {
   "cell_type": "markdown",
   "metadata": {
    "collapsed": true
   },
   "source": [
    "## Exercise 1 - Bayes classification system"
   ]
  },
  {
   "cell_type": "code",
   "execution_count": 90,
   "metadata": {
    "vscode": {
     "languageId": "python"
    }
   },
   "outputs": [],
   "source": [
    "# Import some useful libraries\n",
    "\n",
    "import math\n",
    "\n",
    "import matplotlib.pyplot as plt\n",
    "import numpy as np\n",
    "import pandas as pd\n",
    "from sklearn.model_selection import train_test_split\n",
    "from sklearn.preprocessing import OrdinalEncoder, StandardScaler"
   ]
  },
  {
   "cell_type": "markdown",
   "metadata": {},
   "source": [
    "## 1a. Getting started with Bayes"
   ]
  },
  {
   "cell_type": "markdown",
   "metadata": {},
   "source": [
    "a) Read the training data from file ex1-data-train.csv. The first two columns are x1 and x2. The last column holds the class label y."
   ]
  },
  {
   "cell_type": "code",
   "execution_count": 91,
   "metadata": {
    "pycharm": {
     "is_executing": false
    },
    "vscode": {
     "languageId": "python"
    }
   },
   "outputs": [],
   "source": [
    "def read_data(file):\n",
    "    dataset = pd.read_csv(file, names=['x1','x2','y'])\n",
    "    print(dataset.head())\n",
    "    return dataset[[\"x1\", \"x2\"]], dataset[\"y\"].values"
   ]
  },
  {
   "cell_type": "code",
   "execution_count": 92,
   "metadata": {
    "vscode": {
     "languageId": "python"
    }
   },
   "outputs": [
    {
     "name": "stdout",
     "output_type": "stream",
     "text": [
      "          x1         x2  y\n",
      "0  34.623660  78.024693  0\n",
      "1  30.286711  43.894998  0\n",
      "2  35.847409  72.902198  0\n",
      "3  60.182599  86.308552  1\n",
      "4  79.032736  75.344376  1\n"
     ]
    }
   ],
   "source": [
    "X_train, y_train = read_data(\"ex1-data-train.csv\")"
   ]
  },
  {
   "cell_type": "code",
   "execution_count": 93,
   "metadata": {
    "vscode": {
     "languageId": "python"
    }
   },
   "outputs": [],
   "source": [
    "# Prepare a function to compute accuracy\n",
    "def accuracy_score(y_true, y_pred):\n",
    "    return (y_true == y_pred).sum() / y_true.size"
   ]
  },
  {
   "cell_type": "markdown",
   "metadata": {},
   "source": [
    "b) Compute the priors of both classes P(C0) and P(C1)"
   ]
  },
  {
   "cell_type": "code",
   "execution_count": 94,
   "metadata": {
    "pycharm": {
     "is_executing": false
    },
    "vscode": {
     "languageId": "python"
    }
   },
   "outputs": [],
   "source": [
    "# TODO: Compute the priors\n",
    "p_c0 = (y_train == 0).sum() / y_train.size\n",
    "p_c1 = 1 - p_c0"
   ]
  },
  {
   "cell_type": "markdown",
   "metadata": {},
   "source": [
    "c) Compute histograms of x1 and x2 for each class (total of 4 histograms). Plot these histograms. Advice : use the numpy `histogram(a, bins=\"auto\")` function."
   ]
  },
  {
   "cell_type": "code",
   "execution_count": 95,
   "metadata": {
    "pycharm": {
     "is_executing": false
    },
    "vscode": {
     "languageId": "python"
    }
   },
   "outputs": [
    {
     "data": {
      "image/png": "[encoded data removed]",
      "text/plain": [
       "<Figure size 1600x600 with 2 Axes>"
      ]
     },
     "metadata": {},
     "output_type": "display_data"
    }
   ],
   "source": [
    "# TODO: Compute histograms\n",
    "\n",
    "hist_x1_p_c0 = np.histogram(X_train[[\"x1\"]].to_numpy()[y_train == 0], bins=\"auto\")\n",
    "hist_x2_p_c0 = np.histogram(X_train[[\"x2\"]].to_numpy()[y_train == 0], bins=\"auto\")\n",
    "hist_x1_p_c1 = np.histogram(X_train[[\"x1\"]].to_numpy()[y_train == 1], bins=\"auto\")\n",
    "hist_x2_p_c1 = np.histogram(X_train[[\"x2\"]].to_numpy()[y_train == 1], bins=\"auto\")\n",
    "\n",
    "\n",
    "histograms = []\n",
    "histograms.append(hist_x1_p_c0)\n",
    "histograms.append(hist_x2_p_c0)\n",
    "histograms.append(hist_x1_p_c1)\n",
    "histograms.append(hist_x2_p_c1)\n",
    "\n",
    "# TODO: plot histograms\n",
    "\n",
    "plt.figure(figsize=(16,6))\n",
    "\n",
    "plt.subplot(1, 2, 1)\n",
    "plt.bar(range(len(hist_x1_p_c0[0])), hist_x1_p_c0[0], color=\"red\", alpha=0.7, label=\"c0\")\n",
    "plt.bar(range(len(hist_x1_p_c1[0])), hist_x1_p_c1[0], color=\"green\", alpha=0.5, label=\"c1\")\n",
    "plt.xlabel('Likelihood hist - Exam 1')\n",
    "\n",
    "plt.subplot(1, 2, 2)\n",
    "plt.bar(range(len(hist_x2_p_c0[0])), hist_x2_p_c0[0], color=\"red\", alpha=0.7, label=\"c0\")\n",
    "plt.bar(range(len(hist_x2_p_c1[0])), hist_x2_p_c1[0], color=\"green\", alpha=0.5, label=\"c1\")\n",
    "plt.xlabel('Likelihood hist - Exam 2')\n",
    "\n",
    "plt.show()"
   ]
  },
  {
   "cell_type": "markdown",
   "metadata": {},
   "source": [
    "d) Use the histograms to compute the likelihoods p(x1|C0), p(x1|C1), p(x2|C0) and p(x2|C1). For this define a function `likelihood_hist(x, hist_values, edge_values)` that returns the likelihood of x for a given histogram (defined by its values and bin edges as returned by the numpy `histogram()` function)."
   ]
  },
  {
   "cell_type": "code",
   "execution_count": 96,
   "metadata": {
    "pycharm": {
     "is_executing": false
    },
    "vscode": {
     "languageId": "python"
    }
   },
   "outputs": [],
   "source": [
    "def likelihood_hist(x: float, hist_values: np.ndarray, bin_edges: np.ndarray) -> float:\n",
    "    # TODO: compute likelihoods from histograms outputs\n",
    "    index = np.abs(bin_edges - x).argmin()\n",
    "    if x <= bin_edges[index] or index >= len(hist_values) -1:\n",
    "        index -= 1\n",
    "        #print(str(hist_values))\n",
    "        #print(str(bin_edges))\n",
    "        #print(str(x) + \" : \" + str(index))# + \" -> \" + str(hist_values[index]))\n",
    "    return hist_values[index] / np.sum(hist_values)\n",
    "\n",
    "# la probabilite qu'on echoue (y=0) lorsque notre note du premier exam est x (donc x1=x) \n",
    "#x = 82.5\n",
    "#value = likelihood_hist(x, hist_x1_p_c1[0], hist_x1_p_c1[1])\n",
    "#print(value)"
   ]
  },
  {
   "cell_type": "markdown",
   "metadata": {},
   "source": [
    "e) Implement the classification decision according to Bayes rule and compute the overall accuracy of the system on the test set ex1-data-test.csv. :\n",
    "- using only feature x1\n",
    "- using only feature x2\n",
    "- using x1 and x2 making the naive Bayes hypothesis of feature independence, i.e. p(X|Ck) = p(x1|Ck) · p(x2|Ck)"
   ]
  },
  {
   "cell_type": "code",
   "execution_count": 97,
   "metadata": {
    "pycharm": {
     "is_executing": false
    },
    "vscode": {
     "languageId": "python"
    }
   },
   "outputs": [
    {
     "name": "stdout",
     "output_type": "stream",
     "text": [
      "          x1         x2  y\n",
      "0  39.196334  78.530294  0\n",
      "1  40.448499  86.839470  1\n",
      "2  65.571920  44.303497  0\n",
      "3  79.648113  70.806564  1\n",
      "4  66.260221  41.672703  0\n"
     ]
    }
   ],
   "source": [
    "X_test, y_test = read_data(\"ex1-data-test.csv\")"
   ]
  },
  {
   "cell_type": "code",
   "execution_count": 98,
   "metadata": {
    "pycharm": {
     "is_executing": false
    },
    "vscode": {
     "languageId": "python"
    }
   },
   "outputs": [
    {
     "data": {
      "text/plain": [
       "0.66"
      ]
     },
     "execution_count": 98,
     "metadata": {},
     "output_type": "execute_result"
    }
   ],
   "source": [
    "# TODO: predict on test set in the 3 cases described above\n",
    "\n",
    "y_pred = []\n",
    "\n",
    "for x in X_test[[\"x1\"]].to_numpy() :\n",
    "    p_x1_c0 = likelihood_hist(x, hist_x1_p_c0[0], hist_x1_p_c0[1])\n",
    "    p_x1_c0_post = p_x1_c0 * p_c0\n",
    "    p_x1_c1 = likelihood_hist(x, hist_x1_p_c1[0], hist_x1_p_c1[1])\n",
    "    p_x1_c1_post = p_x1_c1 * p_c1\n",
    "    y_pred.append(1 if p_x1_c1_post >= p_x1_c0_post else 0)\n",
    "\n",
    "accuracy_score(y_test, y_pred)"
   ]
  },
  {
   "cell_type": "code",
   "execution_count": 99,
   "metadata": {
    "vscode": {
     "languageId": "python"
    }
   },
   "outputs": [
    {
     "data": {
      "text/plain": [
       "0.61"
      ]
     },
     "execution_count": 99,
     "metadata": {},
     "output_type": "execute_result"
    }
   ],
   "source": [
    "y_pred = []\n",
    "\n",
    "for x in X_test[[\"x2\"]].to_numpy() :\n",
    "    p_x2_c0 = likelihood_hist(x, hist_x2_p_c0[0], hist_x2_p_c0[1])\n",
    "    p_x2_c0_post = p_x2_c0 * p_c0\n",
    "    p_x2_c1 = likelihood_hist(x, hist_x2_p_c1[0], hist_x2_p_c1[1])\n",
    "    p_x2_c1_post = p_x2_c1 * p_c1\n",
    "    y_pred.append(1 if p_x2_c1_post >= p_x2_c0_post else 0)\n",
    "\n",
    "accuracy_score(y_test, y_pred)"
   ]
  },
  {
   "cell_type": "code",
   "execution_count": 100,
   "metadata": {
    "vscode": {
     "languageId": "python"
    }
   },
   "outputs": [
    {
     "data": {
      "text/plain": [
       "0.64"
      ]
     },
     "execution_count": 100,
     "metadata": {},
     "output_type": "execute_result"
    }
   ],
   "source": [
    "y_pred = []\n",
    "for x in X_test.to_numpy() :\n",
    "    #Compute probability on X1\n",
    "    p_x1_c0 = likelihood_hist(x[0], hist_x1_p_c0[0], hist_x1_p_c0[1])\n",
    "    p_x1_c0_post = p_x1_c0 * p_c0\n",
    "    p_x1_c1 = likelihood_hist(x[0], hist_x1_p_c1[0], hist_x1_p_c1[1])\n",
    "    p_x1_c1_post = p_x1_c1 * p_c1\n",
    "\n",
    "    #Compute probability on X2\n",
    "    p_x2_c0 = likelihood_hist(x[1], hist_x2_p_c0[0], hist_x2_p_c0[1])\n",
    "    p_x2_c0_post = p_x2_c0 * p_c0\n",
    "    p_x2_c1 = likelihood_hist(x[1], hist_x2_p_c1[0], hist_x2_p_c1[1])\n",
    "    p_x2_c1_post = p_x2_c1 * p_c1\n",
    "    \n",
    "    p_x_c0_post = p_x1_c0_post * p_x2_c0_post\n",
    "    p_x_c1_post = p_x1_c1_post * p_x2_c1_post\n",
    "    y_pred.append(1 if p_x_c1_post >= p_x_c0_post else 0)\n",
    "\n",
    "accuracy_score(y_test, y_pred)"
   ]
  },
  {
   "cell_type": "markdown",
   "metadata": {},
   "source": [
    "Which system is the best ?"
   ]
  },
  {
   "cell_type": "markdown",
   "metadata": {},
   "source": [
    "The best system is using only feature X1 where we achieve an accuracy of 0.66."
   ]
  },
  {
   "cell_type": "markdown",
   "metadata": {},
   "source": [
    "## 1b. Bayes - Univariate Gaussian distribution"
   ]
  },
  {
   "cell_type": "markdown",
   "metadata": {},
   "source": [
    "Do the same as in a) but this time using univariate Gaussian distribution to model the likelihoods p(x1|C0), p(x1|C1), p(x2|C0) and p(x2|C1). You may use the numpy functions `mean()` and `var()` to compute the mean μ and variance σ2 of the distribution. To model the likelihood of both features, you may also do the naive Bayes hypothesis of feature independence, i.e. p(X|Ck) = p(x1|Ck) · p(x2|Ck).\n"
   ]
  },
  {
   "cell_type": "code",
   "execution_count": 101,
   "metadata": {
    "pycharm": {
     "is_executing": false
    },
    "vscode": {
     "languageId": "python"
    }
   },
   "outputs": [],
   "source": [
    "def likelihood_univariate_gaussian(x: float, mean: float, var: float) -> float:\n",
    "    # TODO: compute likelihoods from histograms outputs\n",
    "    return (1 / np.sqrt(2 * np.pi * var)) * np.exp(-((x - mean) ** 2) / (2 * var))"
   ]
  },
  {
   "cell_type": "code",
   "execution_count": 102,
   "metadata": {
    "pycharm": {
     "is_executing": false
    },
    "vscode": {
     "languageId": "python"
    }
   },
   "outputs": [],
   "source": [
    "# TODO: Compute mean and variance for each classes and each features (8 values)\n",
    "x1_c0_train = X_train[[\"x1\"]].to_numpy()[y_train == 0]\n",
    "x1_c1_train = X_train[[\"x1\"]].to_numpy()[y_train == 1]\n",
    "\n",
    "x2_c0_train = X_train[[\"x2\"]].to_numpy()[y_train == 0]\n",
    "x2_c1_train = X_train[[\"x2\"]].to_numpy()[y_train == 1]\n",
    "\n",
    "x1_c0_mean = np.mean(x1_c0_train)\n",
    "x1_c1_mean = np.mean(x1_c1_train)\n",
    "x2_c0_mean = np.mean(x2_c0_train)\n",
    "x2_c1_mean = np.mean(x2_c1_train)\n",
    "\n",
    "x1_c0_var = np.var(x1_c0_train)\n",
    "x1_c1_var = np.var(x1_c1_train)\n",
    "x2_c0_var = np.var(x2_c0_train)\n",
    "x2_c1_var = np.var(x2_c1_train)\n"
   ]
  },
  {
   "cell_type": "code",
   "execution_count": 109,
   "metadata": {
    "vscode": {
     "languageId": "python"
    }
   },
   "outputs": [
    {
     "data": {
      "text/plain": [
       "0.71"
      ]
     },
     "execution_count": 109,
     "metadata": {},
     "output_type": "execute_result"
    }
   ],
   "source": [
    "# TODO: predict on test set in the 3 cases\n",
    "\n",
    "y_pred = []\n",
    "\n",
    "for x in X_test[[\"x1\"]].to_numpy() :\n",
    "    p_x1_c0 = likelihood_univariate_gaussian(x, x1_c0_mean, x1_c0_var)\n",
    "    p_x1_c0_post = p_x1_c0 * p_c0\n",
    "    p_x1_c1 = likelihood_univariate_gaussian(x, x1_c1_mean, x1_c1_var)\n",
    "    p_x1_c1_post = p_x1_c1 * p_c1\n",
    "    y_pred.append(1 if p_x1_c1_post >= p_x1_c0_post else 0)\n",
    "\n",
    "accuracy_score(y_test, y_pred)"
   ]
  },
  {
   "cell_type": "code",
   "execution_count": 104,
   "metadata": {
    "vscode": {
     "languageId": "python"
    }
   },
   "outputs": [
    {
     "data": {
      "text/plain": [
       "0.73"
      ]
     },
     "execution_count": 104,
     "metadata": {},
     "output_type": "execute_result"
    }
   ],
   "source": [
    "y_pred = []\n",
    "\n",
    "for x in X_test[[\"x2\"]].to_numpy() :\n",
    "    p_x2_c0 = likelihood_univariate_gaussian(x, x2_c0_mean, x1_c0_var)\n",
    "    p_x2_c0_post = p_x2_c0 * p_c0\n",
    "    p_x2_c1 = likelihood_univariate_gaussian(x, x2_c1_mean, x2_c1_var)\n",
    "    p_x2_c1_post = p_x2_c1 * p_c1\n",
    "    y_pred.append(1 if p_x2_c1_post >= p_x2_c0_post else 0)\n",
    "\n",
    "accuracy_score(y_test, y_pred)"
   ]
  },
  {
   "cell_type": "code",
   "execution_count": 111,
   "metadata": {
    "vscode": {
     "languageId": "python"
    }
   },
   "outputs": [
    {
     "data": {
      "text/plain": [
       "0.92"
      ]
     },
     "execution_count": 111,
     "metadata": {},
     "output_type": "execute_result"
    }
   ],
   "source": [
    "y_pred = []\n",
    "for x in X_test.to_numpy() :\n",
    "    #Compute probability on X1\n",
    "    p_x1_c0 = likelihood_univariate_gaussian(x[0], x1_c0_mean, x1_c0_var)\n",
    "    p_x1_c0_post = p_x1_c0 * p_c0\n",
    "    p_x1_c1 = likelihood_univariate_gaussian(x[0], x1_c1_mean, x1_c1_var)\n",
    "    p_x1_c1_post = p_x1_c1 * p_c1\n",
    "\n",
    "    #Compute probability on X2\n",
    "    p_x2_c0 = likelihood_univariate_gaussian(x[1], x2_c0_mean, x1_c0_var)\n",
    "    p_x2_c0_post = p_x2_c0 * p_c0\n",
    "    p_x2_c1 = likelihood_univariate_gaussian(x[1], x2_c1_mean, x2_c1_var)\n",
    "    p_x2_c1_post = p_x2_c1 * p_c1\n",
    "    \n",
    "    p_x_c0_post = p_x1_c0_post * p_x2_c0_post\n",
    "    p_x_c1_post = p_x1_c1_post * p_x2_c1_post\n",
    "  \n",
    "    y_pred.append(1 if p_x_c1_post >= p_x_c0_post else 0)\n",
    "\n",
    "accuracy_score(y_test, y_pred)"
   ]
  }
 ],
 "metadata": {
  "kernelspec": {
   "display_name": "Python 3 (ipykernel)",
   "language": "python",
   "name": "python3"
  },
  "pycharm": {
   "stem_cell": {
    "cell_type": "raw",
    "metadata": {
     "collapsed": false
    },
    "source": []
   }
  },
  "vscode": {
   "interpreter": {
    "hash": "e7370f93d1d0cde622a1f8e1c04877d8463912d04d973331ad4851f04de6915a"
   }
  }
 },
 "nbformat": 4,
 "nbformat_minor": 1
}
