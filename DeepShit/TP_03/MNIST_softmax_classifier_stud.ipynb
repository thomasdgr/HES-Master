{
 "cells": [
  {
   "cell_type": "markdown",
   "id": "expressed-suffering",
   "metadata": {},
   "source": [
    "## MNIST Data\n",
    "\n",
    "Softmax classification based on MNIST data. \n",
    "\n",
    "MNIST Data\n",
    "\n",
    "The following notation is used:\n",
    "m: Number of samples\n",
    "n: Number of features\n",
    "\n",
    "Here the features refer to the pixel values of the images.\n",
    "\n",
    "For debbuging purposes you may want to choose MNIST light. Set $mnist = 0$ in cell [2]"
   ]
  },
  {
   "cell_type": "code",
   "execution_count": 1,
   "id": "educational-syndrome",
   "metadata": {},
   "outputs": [
    {
     "name": "stdout",
     "output_type": "stream",
     "text": [
      "/home/quentin/scikit_learn_data\n"
     ]
    }
   ],
   "source": [
    "import numpy as np\n",
    "import matplotlib.pyplot as plt\n",
    "from sklearn import datasets as ds \n",
    "from sklearn import model_selection as ms\n",
    "\n",
    "#get local download folder where data is stored\n",
    "#you may change this in the call fetch_openml() below\n",
    "data_h = ds.get_data_home()\n",
    "print(data_h)"
   ]
  },
  {
   "cell_type": "code",
   "execution_count": 2,
   "id": "allied-flavor",
   "metadata": {},
   "outputs": [
    {
     "name": "stdout",
     "output_type": "stream",
     "text": [
      "<class 'sklearn.utils._bunch.Bunch'>\n",
      "dict_keys(['data', 'target', 'frame', 'feature_names', 'target_names', 'images', 'DESCR'])\n",
      "x shape: (1797, 64)\n",
      "y shape: (1797,)\n"
     ]
    }
   ],
   "source": [
    "#choose 0 to work with mnist light (simpler for debugging) \n",
    "mnist = 0\n",
    "\n",
    "if mnist == 1:\n",
    "    # the first time this will download the data from the internet and put to a local folder \n",
    "    mnist_data = ds.fetch_openml(name='mnist_784')\n",
    "\n",
    "    # digit is a \"bunch\" i.e. similar to a dictionary\n",
    "    print(type(mnist_data))\n",
    "    # show the keys of digit\n",
    "    print(mnist_data.keys())\n",
    "    # get data i.e. the image (x) and labels (y)\n",
    "    x = mnist_data['data']\n",
    "    # as compare to the in class activity we convert the labels here to int\n",
    "    y = np.array(mnist_data['target'], dtype='int')\n",
    "    # set image width\n",
    "    img_width = 28\n",
    "else:\n",
    "    mnist_light = ds.load_digits()\n",
    "    # digit is a \"bunch\" i.e. similar to a dictionary\n",
    "    print(type(mnist_light))\n",
    "    # show the keys of digit\n",
    "    print(mnist_light.keys())\n",
    "    # get data i.e. the image (x) and labels (y)\n",
    "    x = mnist_light['data']\n",
    "    y = mnist_light.target\n",
    "    # set image width\n",
    "    img_width = 8\n",
    "    \n",
    "# get the respective shape\n",
    "print(\"x shape:\", x.shape)\n",
    "print(\"y shape:\", y.shape)"
   ]
  },
  {
   "cell_type": "code",
   "execution_count": 3,
   "id": "effective-anaheim",
   "metadata": {},
   "outputs": [
    {
     "data": {
      "image/png": "[encoded data removed]",
      "text/plain": [
       "<Figure size 640x480 with 1 Axes>"
      ]
     },
     "metadata": {},
     "output_type": "display_data"
    }
   ],
   "source": [
    "def plot_img(img):\n",
    "    fig, ax = plt.subplots()\n",
    "    ax.imshow(img, cmap=plt.cm.gray)\n",
    "    ax.set_axis_off()\n",
    "    \n",
    "img = x[0,:].reshape((img_width,img_width)) # do not work with mnist = 1\n",
    "# error: '(0, slice(None, None, None))' is an invalid key\n",
    "#img_width = int(np.sqrt(x.shape[1]))\n",
    "#img = x[0].reshape((img_width, img_width)) # do not work either ;)\n",
    "plot_img(img)"
   ]
  },
  {
   "cell_type": "code",
   "execution_count": 4,
   "id": "stock-simpson",
   "metadata": {},
   "outputs": [],
   "source": [
    "def plot_tiles(x_array, rows, cols = -1, digit_size = 28, fig_size = [10,10]):\n",
    "    \"\"\"\n",
    "    plot list of mnist images as single image\n",
    "\n",
    "    Arguments:\n",
    "    x_array -- array of mnist images (being organised as ROWS!)\n",
    "    rows/cols -- an image of rows x cols - mnist images is created (if x_array is smaller zeros ared padded)\n",
    "    digit_size -- width (= height) of one single digit (= 8 for MNIST light, = 28 for MINIST)\n",
    "    fig_size -- size of full image created (default [10,10])\n",
    "    \"\"\"\n",
    "    #use rows = cols as default\n",
    "    if cols < 0:\n",
    "        cols = rows\n",
    "        \n",
    "    if x_array.shape[0] < rows*cols:\n",
    "        cols = int(x_array.shape[0]/rows)\n",
    "        remain = np.mod(x_array.shape[0], rows)\n",
    "        if 0 < remain:\n",
    "            cols += 1\n",
    "            x_array = np.append(x_array, np.zeros((rows-remain, x_array.shape[1])), 0)    \n",
    "        \n",
    "    img = x_array[0:rows,:].reshape(rows*digit_size,digit_size)\n",
    "    for i0 in range(1,cols):\n",
    "        #the reshape operator in the append call takes num of digit_size x digit_size images and \n",
    "        #puts them in a single column; append then does the rest\n",
    "        img = np.append(img, x_array[i0*rows:(i0+1)*rows,:].reshape(rows*digit_size,digit_size),1)\n",
    "\n",
    "    fig = plt.figure(figsize = fig_size)\n",
    "    ax = fig.subplots()\n",
    "    ax.imshow(img, cmap=plt.cm.gray)\n",
    "    ax.set_axis_off()"
   ]
  },
  {
   "cell_type": "code",
   "execution_count": 5,
   "id": "returning-relative",
   "metadata": {},
   "outputs": [
    {
     "data": {
      "image/png": "[encoded data removed]",
      "text/plain": [
       "<Figure size 400x400 with 1 Axes>"
      ]
     },
     "metadata": {},
     "output_type": "display_data"
    }
   ],
   "source": [
    "#append rows x cols tiles of digits\n",
    "rows = 8\n",
    "cols = 8\n",
    "#figure size can be set\n",
    "fig_size = [4,4]\n",
    "\n",
    "plot_tiles(x, rows, cols, img_width, fig_size)"
   ]
  },
  {
   "cell_type": "code",
   "execution_count": 6,
   "id": "qualified-charm",
   "metadata": {},
   "outputs": [
    {
     "data": {
      "image/png": "[encoded data removed]",
      "text/plain": [
       "<Figure size 400x400 with 1 Axes>"
      ]
     },
     "metadata": {},
     "output_type": "display_data"
    }
   ],
   "source": [
    "#choose a given digit 0..9\n",
    "digit  = 1\n",
    "\n",
    "plot_tiles(x[y == digit,:], rows, cols, img_width, fig_size)"
   ]
  },
  {
   "cell_type": "code",
   "execution_count": 7,
   "id": "signed-kansas",
   "metadata": {},
   "outputs": [
    {
     "name": "stdout",
     "output_type": "stream",
     "text": [
      "(1437, 64) (360, 64) (1437,) (360,)\n"
     ]
    }
   ],
   "source": [
    "#select training and test set (random_state set the seed for reproducible results)\n",
    "\n",
    "from sklearn import model_selection as ms\n",
    "\n",
    "#define train and test split\n",
    "x_train, x_test, y_train, y_test = ms.train_test_split(x, y, \n",
    "                                     test_size=0.20, random_state=1)\n",
    "\n",
    "print(x_train.shape, x_test.shape, y_train.shape, y_test.shape)"
   ]
  },
  {
   "cell_type": "code",
   "execution_count": 8,
   "id": "stable-wheel",
   "metadata": {},
   "outputs": [],
   "source": [
    "class MiniBatches:\n",
    "    \"\"\"\n",
    "    obtains x- and y-data in the constructor and returns a sample of batch_size with each call to next()\n",
    "    \"\"\"\n",
    "    def __init__(self, x, y, batch_size):\n",
    "        \"\"\"\n",
    "        constructor\n",
    "\n",
    "        Arguments:\n",
    "        x/y -- data\n",
    "        batch_size -- size of batch (0 means one single batch)\n",
    "        \"\"\"\n",
    "        self.x = x\n",
    "        self.y = y\n",
    "        m = x.shape[0]\n",
    "        self.indices = np.arange(m)\n",
    "        self.n = x.shape[1]\n",
    "        \n",
    "        if not batch_size:\n",
    "            self.batch_size = m\n",
    "            self.mb = 1\n",
    "        else:\n",
    "            self.batch_size = batch_size        \n",
    "            self.mb = int(m / self.batch_size)    \n",
    "            np.random.shuffle(self.indices)\n",
    "        \n",
    "        self.ib = 0\n",
    "\n",
    "    def number_of_batches(self):\n",
    "        return self.mb\n",
    "\n",
    "    def next(self):\n",
    "        it = self.indices[self.ib * self.batch_size:(self.ib + 1) * self.batch_size]\n",
    "        x_batch = self.x[it, :]\n",
    "        y_batch = self.y[it]\n",
    "        self.ib += 1\n",
    "\n",
    "        return {'x_batch': x_batch, 'y_batch': y_batch}"
   ]
  },
  {
   "cell_type": "markdown",
   "id": "organized-charger",
   "metadata": {},
   "source": [
    "### Class GradientDescent\n",
    "\n",
    "This class summarises the gradient descent steps. The training and test data is given as dictionary (c.f. cell directly below the class definition for an example). The class can be called, however only a dummy implementation is given (weigths w and bias b are always 0). Replace the dummy parts with your own implementation and test it."
   ]
  },
  {
   "cell_type": "code",
   "execution_count": 9,
   "id": "removed-commons",
   "metadata": {},
   "outputs": [],
   "source": [
    "class GradientDescent:\n",
    "    \"\"\"\n",
    "    obtains train and test data in the constructor and does the gradient descend\n",
    "    \"\"\"\n",
    "\n",
    "    def __init__(self, data, alpha=0.05, batch_size=256, random_std=0):\n",
    "        \"\"\"\n",
    "        constructor\n",
    "\n",
    "        Arguments:\n",
    "        data -- dictionary with data\n",
    "        alpha -- learning rate\n",
    "        random_std -- std for initialisation of weight (default is 0)\n",
    "        \"\"\"\n",
    "        # keep local copy of data\n",
    "        self.data = data\n",
    "        self.alpha = alpha\n",
    "        self.batch_size = batch_size\n",
    "        # number of digits\n",
    "        self.num_digit = int(max(data['y_train']) + 1)\n",
    "\n",
    "        # normalize data\n",
    "        self.normalise_data()\n",
    "\n",
    "        # initialize weights and bias (zero or random)\n",
    "        self.initialise_weights(random_std)\n",
    "\n",
    "        # result array\n",
    "        self.result_data = np.array([])\n",
    "\n",
    "        \n",
    "    def normalise_data(self):\n",
    "        \"\"\"\n",
    "        normalize the input data\n",
    "        \"\"\"\n",
    "        # separate normalisation of train and test data\n",
    "        self.data['x_train'] /= np.max(self.data['x_train'])\n",
    "        self.data['x_test'] /= np.max(self.data['x_test'])\n",
    "\n",
    "        \n",
    "    def initialise_weights(self, random_std):\n",
    "        \"\"\"\n",
    "        initialise weights\n",
    "        \"\"\"\n",
    "        # initialize weights and bias (if random_std == 0 all weights are zero)\n",
    "        self.W = random_std * np.random.randn(self.data['x_train'].shape[1], self.num_digit)\n",
    "        self.B = random_std * np.random.randn(1, self.num_digit)\n",
    "\n",
    "        \n",
    "    def calc_error(self, y_pred, y):\n",
    "        \"\"\"\n",
    "        get error information\n",
    "        \"\"\"\n",
    "        m = y.shape[0]\n",
    "\n",
    "        y_pred_argmax = np.argmax(y_pred, axis=1)\n",
    "        train_error = np.sum(y != y_pred_argmax) / m\n",
    "\n",
    "        return train_error\n",
    "\n",
    "    \n",
    "    def append_result(self, res_data):\n",
    "        \"\"\"\n",
    "        append cost and error data to output array\n",
    "        \"\"\"\n",
    "        # first call\n",
    "        if self.result_data.size == 0:\n",
    "            self.result_data = res_data\n",
    "        else:\n",
    "            self.result_data = np.append(self.result_data, res_data, 0)\n",
    "\n",
    "        return res_data\n",
    "\n",
    "    \n",
    "    def cost_funct(self, y_pred, y):\n",
    "        \"\"\"\n",
    "        calculates the cost function\n",
    "        \"\"\"\n",
    "        m = y.shape[0]\n",
    "        \n",
    "        ### START YOUR CODE ###\n",
    "        y_one_h = self.one_hot(y) #One hot mask corresponding neuron for each\n",
    "        y_pred_masked = y_pred * y_one_h\n",
    "        y_pred_masked = y_pred_masked.flatten()\n",
    "        y_pred_masked = np.delete(y_pred_masked, y_pred_masked == 0) #Remove 0 values (masked)\n",
    "        \n",
    "        cost = (-1/m) * np.sum( np.log(y_pred_masked))\n",
    "        ### END YOUR CODE ###\n",
    "\n",
    "        return cost\n",
    "\n",
    "    \n",
    "    def one_hot(self, y):\n",
    "        \"\"\"\n",
    "        construct onehot vector from set of labels\n",
    "        \"\"\"\n",
    "        m = y.shape[0]\n",
    "        one_hot = np.zeros((m, self.num_digit), dtype=float)\n",
    "        \n",
    "        ### START YOUR CODE ###\n",
    "        for i in range(m):\n",
    "            one_hot[i][y[i]] = 1\n",
    "        ### START YOUR CODE ###    \n",
    "\n",
    "        return one_hot\n",
    "\n",
    "    \n",
    "    def grad_cost(self, y_pred):\n",
    "        \"\"\"\n",
    "        calculates the gradients of cost function wrt w and b\n",
    "        \"\"\"\n",
    "        # abbreviation\n",
    "        x = self.batch['x_batch']\n",
    "        y = self.batch['y_batch']\n",
    "        m = x.shape[0]\n",
    "\n",
    "        ### START YOUR CODE ###\n",
    "        \n",
    "        y_one_h = self.one_hot(y)\n",
    "        diff = y_one_h - y_pred\n",
    "        grad_W = (-1 / m) * np.dot(x.T, diff).T\n",
    "        grad_B = (-1 / m) * np.sum(diff, axis=0)\n",
    "        ### END YOUR CODE ###\n",
    "\n",
    "        return grad_W.T, grad_B\n",
    "\n",
    "    \n",
    "    def predict(self, x):\n",
    "        \"\"\"\n",
    "        implementation of softmax function\n",
    "        \"\"\"\n",
    "        ### START YOUR CODE ###\n",
    "        soft_max = np.exp(np.dot(x, self.W) + self.B) / np.sum(np.exp(np.dot(x, self.W) + self.B), axis=1, keepdims=True)\n",
    "        ### END YOUR CODE ###\n",
    "\n",
    "        return soft_max\n",
    "\n",
    "    \n",
    "    def update(self):\n",
    "        \"\"\"\n",
    "        performs one gradient descend step\n",
    "        \"\"\"\n",
    "        # predicted outcome\n",
    "        y_pred = self.predict(self.batch['x_batch'])\n",
    "\n",
    "        grad_W, grad_B = self.grad_cost(y_pred)\n",
    "        self.W -= self.alpha * grad_W\n",
    "        self.B -= self.alpha * grad_B\n",
    "        \n",
    "    \n",
    "    def save_results(self, i_step):\n",
    "        \"\"\"\n",
    "        prediction on full data set (train and test) and saving of data\n",
    "        \"\"\"\n",
    "        # predicted outcome for train [0] and test data [1]\n",
    "        self.y_pred = [self.predict(self.data['x_train']), self.predict(self.data['x_test'])]\n",
    "\n",
    "        # determine cost functions for train [0] and test data [1]\n",
    "        self.cost = [self.cost_funct(self.y_pred[0], self.data['y_train']),\n",
    "                     self.cost_funct(self.y_pred[1], self.data['y_test'])]\n",
    "\n",
    "        res_data = np.array([[i_step, self.cost[0], self.calc_error(self.y_pred[0], self.data['y_train']),\n",
    "                              self.cost[1], self.calc_error(self.y_pred[1], self.data['y_test'])]])\n",
    "\n",
    "        self.append_result(res_data)\n",
    "\n",
    "        return res_data\n",
    "\n",
    "\n",
    "        \n",
    "    def optimise(self, epochs, debug=False):\n",
    "        \"\"\"\n",
    "        performs epochs number of gradient descend steps and appends result to output array\n",
    "\n",
    "        Arguments:\n",
    "        debug -- False (default)/True; get info on each gradient descend step\n",
    "        \"\"\"\n",
    "        # save results before step\n",
    "        res_data = self.save_results(0)\n",
    "\n",
    "        for i0 in range(0, epochs):\n",
    "            #create batches for each epoch\n",
    "            batches = MiniBatches(self.data['x_train'], self.data['y_train'], self.batch_size)\n",
    "\n",
    "            for ib in range(batches.number_of_batches()):\n",
    "                self.batch = batches.next()\n",
    "                self.update()\n",
    "            \n",
    "            #we save only once per epoch\n",
    "            res_data = self.save_results(i0+1)\n",
    "            if debug and np.mod(i0, 1) == 0:\n",
    "                print('step %r, cost %r, error %r' % (i0, res_data[0, 1], res_data[0, 2]))\n",
    "\n",
    "        print('result after %d epochs, train: cost %.5f, error %.5f ; test: cost %.5f, error %.5f'\n",
    "              % (epochs, res_data[0, 1], res_data[0, 2], res_data[0, 3], res_data[0, 4]))"
   ]
  },
  {
   "cell_type": "markdown",
   "id": "adapted-reputation",
   "metadata": {},
   "source": [
    "### Sample execution of gradient descent\n",
    "\n",
    "The cell below shows how to use the class GradientDescent to perform the optimisation. The training and test data is given as dictionary in the constructor of the class. Then the method optimise is called with first argument being the number of epochs.\n"
   ]
  },
  {
   "cell_type": "code",
   "execution_count": 59,
   "id": "colored-facility",
   "metadata": {
    "scrolled": true
   },
   "outputs": [
    {
     "name": "stdout",
     "output_type": "stream",
     "text": [
      "result after 100 epochs, train: cost 0.01645, error 0.00139 ; test: cost 0.07987, error 0.03056\n"
     ]
    }
   ],
   "source": [
    "#data is arranged as dictionary with quick access through respective keys\n",
    "data = {'x_train' : x_train, 'y_train' : y_train, 'x_test' : x_test, 'y_test' : y_test}\n",
    "\n",
    "alpha=0.10\n",
    "batch_size=1\n",
    "\n",
    "gradD = GradientDescent(data, alpha, batch_size, 0.)\n",
    "\n",
    "gradD.optimise(100, False)"
   ]
  },
  {
   "cell_type": "code",
   "execution_count": 49,
   "id": "lonely-quantity",
   "metadata": {},
   "outputs": [
    {
     "data": {
      "image/png": "[encoded data removed]",
      "text/plain": [
       "<Figure size 640x480 with 1 Axes>"
      ]
     },
     "metadata": {},
     "output_type": "display_data"
    }
   ],
   "source": [
    "#analyse cost as function of epochs\n",
    "epochs = gradD.result_data[:,0]\n",
    "train_costs = gradD.result_data[:,1]\n",
    "test_costs = gradD.result_data[:,3]\n",
    "\n",
    "plt.semilogy(epochs, train_costs, label=\"train\")\n",
    "plt.semilogy(epochs, test_costs, label=\"test\")\n",
    "plt.ylabel('Cost')\n",
    "plt.xlabel('Epochs')\n",
    "xmax = epochs[-1]\n",
    "ymin = 2e-1\n",
    "ymax = 2\n",
    "plt.axis([0,xmax,ymin,ymax])\n",
    "plt.legend()\n",
    "plt.show() "
   ]
  },
  {
   "cell_type": "code",
   "execution_count": 12,
   "id": "neither-moldova",
   "metadata": {},
   "outputs": [
    {
     "data": {
      "image/png": "[encoded data removed]",
      "text/plain": [
       "<Figure size 640x480 with 1 Axes>"
      ]
     },
     "metadata": {},
     "output_type": "display_data"
    }
   ],
   "source": [
    "#analyse error as function of epochs\n",
    "epochs = gradD.result_data[:,0]\n",
    "train_error = gradD.result_data[:,2]\n",
    "test_error = gradD.result_data[:,4]\n",
    "\n",
    "plt.semilogy(epochs, train_error, label=\"train\")\n",
    "plt.semilogy(epochs, test_error, label=\"test\")\n",
    "plt.ylabel('Error')\n",
    "plt.xlabel('Epochs')\n",
    "xmax = epochs[-1]\n",
    "ymin = 5e-2\n",
    "ymax = 5e-1\n",
    "plt.axis([0,xmax,ymin,ymax])\n",
    "plt.legend()\n",
    "plt.show() "
   ]
  },
  {
   "cell_type": "markdown",
   "id": "impressive-photographer",
   "metadata": {},
   "source": [
    "### Describe your Findings for Exercise 1b\n",
    "\n",
    "By running the training with different settings for learning rate, number of epochs, batch size explore which combination is best suited to obtain good test performance. Keep an eye on random estimates for the error rates due to random parameter initialisation and randomly shuffled mini-batches.\n",
    "\n",
    "Specify your choice of these hyper-parameters and justify why you consider your choice best suited.\n"
   ]
  },
  {
   "cell_type": "markdown",
   "id": "initial-usage",
   "metadata": {},
   "source": [
    "In order to find the best model, we modified one parameter at a time. It allows us to see the influence of each.\n",
    "\n",
    "| Learning rate | Number of epochs | Batch Size | Train cost | Train error | Test cost | Test error |\n",
    "|:-------------:|:----------------:|:----------:|:----------:|:-----------:|:---------:|:----------:|\n",
    "|0.05           |100               |  256       | 0.63823    | 0.07794     | 0.62071   |  0.08333   |\n",
    "|0.05           |500               |  256       | 0.24717    | 0.04175     | 0.24120   |  0.04722   |\n",
    "|0.05           |2500              |  256       | 0.11359    | 0.02157     | 0.12602   |  0.02222   |\n",
    "|0.05           |5000              |  256       | 0.08025    | 0.01461     | 0.10414   |  0.02500   |\n",
    "|0.25           |100               |  256       | 0.24696    | 0.04175     | 0.24107   |  0.04722   |\n",
    "|0.50           |100               |  256       | 0.17477    | 0.03271     | 0.17596   |  0.03333   |\n",
    "|1.00           |100               |  256       | 0.12623    | 0.02366     | 0.13454   |  0.01944   |\n",
    "|20.00          |100               |  256       | 0.01940    | 0.00557     | 0.15584   |  0.03333   |\n",
    "|0.05           |100               |  128       | 0.39028    | 0.05985     | 0.37734   |  0.06667   |\n",
    "|0.05           |100               |  64        | 0.26429    | 0.04384     | 0.25705   |  0.04722   |\n",
    "|0.05           |100               |  32        | 0.18591    | 0.03410     | 0.18534   |  0.04167   |\n",
    "|0.05           |100               |  1         | 0.02720    | 0.00278     | 0.08310   |  0.03056   |\n",
    "|0.05           |100               |  512       | 1.12770    | 0.09395     | 1.10944   |  0.09722   |\n",
    "\n",
    "\n",
    "- With the original parameters, the test cost continued to decrease after the training. It's a sign of underfitting. Even by making lot of epochs, we didn't overfited.\n",
    "\n",
    "- By by increasing the learning rate we converge. However, care must be taken not to make it too big to avoid overfitting.\n",
    "\n",
    "- The larger the batch size, the longer it takes to converges. This is very fast with the stochastic gradient descent.\n",
    "\n",
    "According to these observations we tried to establish the model with the smallest test cost and error. \n",
    "\n",
    "Compared to the original parameters, we increased a little bit the learning rate and use stochastic gradient descent. We didn't have improvment by increasing number of epochs.\n",
    "\n",
    "\n",
    "| Learning rate | Number of epochs | Batch Size | Train cost | Train error | Test cost | Test error |\n",
    "|:-------------:|:----------------:|:----------:|:----------:|:-----------:|:---------:|:----------:|\n",
    "|0.05           |512               |  1         | 0-01645    | 0.00139     | 0.07987   |  0.03056   |"
   ]
  },
  {
   "cell_type": "code",
   "execution_count": 115,
   "id": "coastal-marks",
   "metadata": {},
   "outputs": [
    {
     "name": "stdout",
     "output_type": "stream",
     "text": [
      "(30, 64)\n",
      "[[ 9  1  0 -1 -1 -1 -1 -1 -1 -1]\n",
      " [ 8  3  2 -1 -1 -1 -1 -1 -1 -1]\n",
      " [ 3  8  8 -1 -1 -1 -1 -1 -1 -1]\n",
      " [ 4  1  2 -1 -1 -1 -1 -1 -1 -1]\n",
      " [ 9  9  2 -1 -1 -1 -1 -1 -1 -1]\n",
      " [ 2  8  1 -1 -1 -1 -1 -1 -1 -1]\n",
      " [ 7  4  1 -1 -1 -1 -1 -1 -1 -1]\n",
      " [ 2  3  3 -1 -1 -1 -1 -1 -1 -1]\n",
      " [ 3  7  8 -1 -1 -1 -1 -1 -1 -1]\n",
      " [ 1  8  3 -1 -1 -1 -1 -1 -1 -1]]\n"
     ]
    },
    {
     "data": {
      "image/png": "[encoded data removed]",
      "text/plain": [
       "<Figure size 400x400 with 1 Axes>"
      ]
     },
     "metadata": {},
     "output_type": "display_data"
    }
   ],
   "source": [
    "#analyse false classified training or test images\n",
    "\n",
    "#switch to see training errors\n",
    "#y_pred = gradD.y_pred[0]\n",
    "#x_data = x_train\n",
    "#y_data = y_train\n",
    "y_pred = gradD.y_pred[1]\n",
    "x_data = x_test\n",
    "y_data = y_test\n",
    "\n",
    "\n",
    "#choose here the number of digits shown, a full image of rows x cols tiles of digits is created\n",
    "rows = 10\n",
    "cols = 10\n",
    "#figure size can be set\n",
    "fig_size = [4,4]\n",
    "\n",
    "\n",
    "yhat = np.argmax(y_pred, axis=1)\n",
    "indices = np.where(yhat != y_data)[0]\n",
    "\n",
    "false_classifications = x_data[indices,:]\n",
    "\n",
    "print(false_classifications.shape)\n",
    "\n",
    "plot_tiles(false_classifications, rows, cols, img_width, fig_size)\n",
    "\n",
    "\n",
    "#print the correct labels \n",
    "correct_labels = y_data[indices]\n",
    "\n",
    "if correct_labels.shape[0] < rows*cols:\n",
    "    correct_labels = np.append(correct_labels, -np.ones((rows*cols-correct_labels.shape[0])))\n",
    "    \n",
    "correct_labels = correct_labels[:rows*cols].reshape(cols,rows).T\n",
    "\n",
    "print(np.array(correct_labels, dtype = int))"
   ]
  },
  {
   "cell_type": "code",
   "execution_count": 116,
   "id": "elegant-template",
   "metadata": {},
   "outputs": [
    {
     "data": {
      "image/png": "[encoded data removed]",
      "text/plain": [
       "<Figure size 1500x600 with 1 Axes>"
      ]
     },
     "metadata": {},
     "output_type": "display_data"
    }
   ],
   "source": [
    "#visualise the weights, order is:\n",
    "#0 2 4 6 8\n",
    "#1 3 5 7 9 \n",
    "\n",
    "rows = 2\n",
    "cols = 5\n",
    "#figure size can be set\n",
    "fig_size = [15,6]\n",
    "\n",
    "plot_tiles(gradD.W.T, rows, cols, img_width, fig_size)"
   ]
  },
  {
   "cell_type": "markdown",
   "id": "connected-inflation",
   "metadata": {},
   "source": [
    "# Unit Tests\n",
    "### Unit Test for predict¶\n"
   ]
  },
  {
   "cell_type": "code",
   "execution_count": 13,
   "id": "moving-mistress",
   "metadata": {},
   "outputs": [],
   "source": [
    "#create dummy instance\n",
    "hx = np.ones((2,2))\n",
    "hy = np.ones((2,1))\n",
    "data = {'x_train' : hx, 'y_train' : hy, 'x_test' : hx, 'y_test' : hy}\n",
    "gradD = GradientDescent(data, 0.5, 20, 0.)\n",
    "\n",
    "gradD.W = np.array([[ 1,  0, -1],[-1,  1,  1]]).reshape(2,3)\n",
    "gradD.B = np.array([0,0,0]).reshape(1,3)\n",
    "x = np.array([2, 3]).reshape(1,2)\n",
    "y_pred = gradD.predict(x)\n",
    "y_exp = np.array([0.01587624,0.86681333,0.11731043]).reshape(y_pred.shape)\n",
    "np.testing.assert_array_almost_equal(y_pred,y_exp,decimal=8)\n",
    "np.testing.assert_array_almost_equal(np.sum(y_pred, axis=1), 1.0, decimal=8)\n",
    "\n",
    "x = np.array([[ 2,  1],[-1,  1],[ 1,  1],[-1,  1]]).reshape(4,2)\n",
    "y_pred = gradD.predict(x)\n",
    "y_exp = np.array([[0.46831053, 0.46831053, 0.06337894],\n",
    "       [0.01321289, 0.26538793, 0.72139918],\n",
    "       [0.21194156, 0.57611688, 0.21194156],\n",
    "       [0.01321289, 0.26538793, 0.72139918]]\n",
    ")\n",
    "np.testing.assert_array_almost_equal(y_pred,y_exp,decimal=8)\n",
    "np.testing.assert_array_almost_equal(np.sum(y_pred, axis=1), np.ones(4,dtype='float'), decimal=8)"
   ]
  },
  {
   "cell_type": "markdown",
   "id": "spoken-crisis",
   "metadata": {},
   "source": [
    "### Unit Test for cost_function"
   ]
  },
  {
   "cell_type": "code",
   "execution_count": 14,
   "id": "iraqi-contributor",
   "metadata": {},
   "outputs": [],
   "source": [
    "#create dummy instance\n",
    "hx = np.ones((2,2))\n",
    "hy = np.ones((2,1))\n",
    "data = {'x_train' : hx, 'y_train' : hy, 'x_test' : hx, 'y_test' : hy}\n",
    "gradD = GradientDescent(data, 0.5, 20, 0.)\n",
    "\n",
    "y = np.array([1])\n",
    "y_pred = np.array([0.04742587,0.95257413]).reshape(1,2)\n",
    "cost = gradD.cost_funct(y_pred, y)\n",
    "cost_exp = 0.04858735\n",
    "np.testing.assert_almost_equal(cost,cost_exp,decimal=8)\n",
    "\n",
    "y = np.array([1,1,1,0])\n",
    "y_pred = np.array([[1.79862100e-02, 6.69285092e-03, 4.74258732e-02, 9.99088949e-01],\n",
    "                  [9.82013790e-01, 9.93307149e-01, 9.52574127e-01, 9.11051194e-04]]).T\n",
    "cost = gradD.cost_funct(y_pred, y)\n",
    "cost_exp = 0.01859102\n",
    "np.testing.assert_almost_equal(cost,cost_exp,decimal=8)"
   ]
  },
  {
   "cell_type": "markdown",
   "id": "collaborative-theory",
   "metadata": {},
   "source": [
    "### Unit Test for one_hot"
   ]
  },
  {
   "cell_type": "code",
   "execution_count": 15,
   "id": "separated-copying",
   "metadata": {},
   "outputs": [],
   "source": [
    "#create dummy instance\n",
    "hx = np.ones((2,2))\n",
    "hy = np.ones((2,1))\n",
    "data = {'x_train' : hx, 'y_train' : hy, 'x_test' : hx, 'y_test' : hy}\n",
    "gradD = GradientDescent(data, 0.5, 20, 0.)\n",
    "\n",
    "y = np.array([1,3,0])\n",
    "gradD.num_digit = 4\n",
    "one_hot = gradD.one_hot(y)\n",
    "one_hot_exp = np.array([[0,1,0,0],[0,0,0,1],[1,0,0,0]])\n",
    "np.testing.assert_almost_equal(one_hot,one_hot_exp,decimal=8)"
   ]
  },
  {
   "cell_type": "markdown",
   "id": "solar-kruger",
   "metadata": {},
   "source": [
    "### Unit Test for grad_cost\n",
    "Assumes that Unit Test for predict is correct!"
   ]
  },
  {
   "cell_type": "code",
   "execution_count": 16,
   "id": "smart-surface",
   "metadata": {},
   "outputs": [],
   "source": [
    "#create dummy instance\n",
    "hx = np.ones((2,2))\n",
    "hy = np.ones((2,1))\n",
    "data = {'x_train' : hx, 'y_train' : hy, 'x_test' : hx, 'y_test' : hy}\n",
    "gradD = GradientDescent(data, 0.5, 20, 0.)\n",
    "\n",
    "gradD.W = np.array([[ 1,  0, -1],[-1,  1,  1]]).reshape(2,3)\n",
    "gradD.B = np.array([0,0,0]).reshape(1,3)\n",
    "x = np.array([[2,-1,1,-1],[1,1,1,1]]).reshape(2,4).T\n",
    "y = np.array([1,1,1,1])\n",
    "y_pred = gradD.predict(x)\n",
    "gradD.num_digit = 3\n",
    "\n",
    "gradD.batch = {'x_batch': x, 'y_batch': y}\n",
    "\n",
    "grad_W, grad_B = gradD.grad_cost(y_pred)\n",
    "\n",
    "grad_W_exp = np.array([[ 0.28053421, -0.00450948, -0.27602473],\n",
    "                       [ 0.17666947, -0.60619918,  0.42952972]])\n",
    "grad_B_exp = np.array([0.17666947,-0.60619918,0.42952972])\n",
    "np.testing.assert_array_almost_equal(grad_W,grad_W_exp,decimal=8)\n",
    "np.testing.assert_array_almost_equal(grad_B,grad_B_exp, decimal=8)"
   ]
  }
 ],
 "metadata": {
  "kernelspec": {
   "display_name": "Python 3 (ipykernel)",
   "language": "python",
   "name": "python3"
  },
  "language_info": {
   "codemirror_mode": {
    "name": "ipython",
    "version": 3
   },
   "file_extension": ".py",
   "mimetype": "text/x-python",
   "name": "python",
   "nbconvert_exporter": "python",
   "pygments_lexer": "ipython3",
   "version": "3.10.6"
  },
  "vscode": {
   "interpreter": {
    "hash": "f9f85f796d01129d0dd105a088854619f454435301f6ffec2fea96ecbd9be4ac"
   }
  }
 },
 "nbformat": 4,
 "nbformat_minor": 5
}
