{
 "cells": [
  {
   "cell_type": "markdown",
   "id": "expressed-suffering",
   "metadata": {},
   "source": [
    "## Universal Approximation Theorem - Gradient Descent Optimisation\n",
    "\n",
    "Here we study the possibility to approximate functions with a MLP with a single hidden layer (n1 hidden units).\n",
    "As activation functions, we use the sigmoid ('logit') function.\n",
    "\n",
    "We generate training data - by assuming a function on the unit interval [0,1]. Here, we provide two families of functions:\n",
    "* Beta distribution function: $b_{\\alpha,\\beta}(x)=x^\\alpha\\cdot(1-x)^\\beta$\n",
    "* Sine function: $sin_\\omega(x)=\\sin(2\\pi\\omega\\cdot x)$\n",
    "\n",
    "Finally, we use mini-batch-gradient descent to minimize MSE cost.\n",
    "\n",
    "Goals:\n",
    "* Learn how a given function can be represented with a single layer MLP;\n",
    "* Understand that, in principle, it can be learned from sample data;\n",
    "* Understand that the optimization based on plain gradient is not always straightforward; \n",
    "* Experience that the choice of the hyper-parameters number of hidden units, batchsize, learning rate is tricky. "
   ]
  },
  {
   "cell_type": "code",
   "execution_count": 1,
   "id": "educational-syndrome",
   "metadata": {},
   "outputs": [],
   "source": [
    "import numpy as np\n",
    "import matplotlib.pyplot as plt\n",
    "%matplotlib inline\n",
    "\n",
    "\n",
    "def plot_function(x,y):\n",
    "    plt.plot(x, y)\n",
    "    plt.xlabel('x')\n",
    "    plt.show()\n",
    "    \n",
    "def plot_compare_function(x,y1,y2, label1='', label2=''):\n",
    "    plt.plot(x, y1, label=label1)\n",
    "    plt.xlabel('x')\n",
    "    plt.plot(x, y2, label=label2)\n",
    "    if label1 and label2:\n",
    "        plt.legend()\n",
    "    plt.show()\n"
   ]
  },
  {
   "cell_type": "code",
   "execution_count": 2,
   "id": "allied-flavor",
   "metadata": {},
   "outputs": [],
   "source": [
    "def beta_fct(x,alpha,beta):\n",
    "    \"\"\"\n",
    "    Parameters:\n",
    "    x - input array\n",
    "    alpha, beta -- larger values lead to more pronounced peaks\n",
    "    \"\"\"\n",
    "    c = alpha/(alpha+beta)\n",
    "    norm = c**alpha*(1-c)**beta\n",
    "    return x**alpha*(1-x)**beta/norm\n",
    "\n",
    "\n",
    "def sin_fct(x,omega):\n",
    "    \"\"\"\n",
    "    Parameters:\n",
    "    x -- input array\n",
    "    omega -- frequency that defines the integer number of cycles within the unit interval\n",
    "    \"\"\"\n",
    "    return np.sin(x*2*np.pi*omega)\n",
    "\n",
    "\n",
    "def generate_inputs(m, func, random=True, vargs=None, sigmaY=0.0):\n",
    "    \"\"\"\n",
    "    Generates m (x,y=f(x))-samples by either generating random x-values in the unit interval (random=True) or by \n",
    "    generating a grid of such values. Then the y values (used as labels below) are created from the function object \n",
    "    `func`.\n",
    "    Parameter needed to define the function `func` can be passed as vargs-dict. \n",
    "    \"\"\"\n",
    "    if random:\n",
    "        x = np.random.rand(1,m)\n",
    "    else:\n",
    "        x = np.linspace(0,1,m).reshape(m,1)\n",
    "    y = func(x,**vargs) + sigmaY*np.random.randn(*(m,1))  \n",
    "    \n",
    "    return {'data_x': x, 'data_y':y}"
   ]
  },
  {
   "cell_type": "code",
   "execution_count": 3,
   "id": "alone-sandwich",
   "metadata": {},
   "outputs": [
    {
     "data": {
      "text/plain": [
       "[<matplotlib.lines.Line2D at 0x7fe2b04ab9a0>]"
      ]
     },
     "execution_count": 3,
     "metadata": {},
     "output_type": "execute_result"
    },
    {
     "data": {
      "image/png": "[encoded data removed]",
      "text/plain": [
       "<Figure size 640x480 with 1 Axes>"
      ]
     },
     "metadata": {},
     "output_type": "display_data"
    }
   ],
   "source": [
    "m = 100\n",
    "func = beta_fct\n",
    "vargs={'alpha':2.0,'beta':2.0}\n",
    "#func = sin_fct\n",
    "#vargs={'omega':1.0}\n",
    "\n",
    "\n",
    "data = generate_inputs(m,func,vargs=vargs, random=False, sigmaY=0.1)\n",
    "\n",
    "plt.plot(data['data_x'][:,0], data['data_y'][:,0],'+')"
   ]
  },
  {
   "cell_type": "code",
   "execution_count": 4,
   "id": "collective-carolina",
   "metadata": {},
   "outputs": [],
   "source": [
    "class MiniBatches:\n",
    "    \"\"\"\n",
    "    obtains x- and y-data in the constructor and returns a sample of batch_size with each call to next()\n",
    "    \"\"\"\n",
    "    def __init__(self, x, y, batch_size):\n",
    "        \"\"\"\n",
    "        constructor\n",
    "\n",
    "        Arguments:\n",
    "        x/y -- data\n",
    "        batch_size -- size of batch (0 means one single batch)\n",
    "        \"\"\"\n",
    "        self.x = x\n",
    "        self.y = y\n",
    "        m = x.shape[0]\n",
    "        self.indices = np.arange(m)\n",
    "        self.n = x.shape[1]\n",
    "        \n",
    "        if not batch_size:\n",
    "            self.batch_size = m\n",
    "            self.mb = 1\n",
    "        else:\n",
    "            self.batch_size = batch_size        \n",
    "            self.mb = int(m / self.batch_size)    \n",
    "            np.random.shuffle(self.indices)\n",
    "        \n",
    "        self.ib = 0\n",
    "\n",
    "    def number_of_batches(self):\n",
    "        return self.mb\n",
    "\n",
    "    def next(self):\n",
    "        it = self.indices[self.ib * self.batch_size:(self.ib + 1) * self.batch_size]\n",
    "        x_batch = self.x[it, :]\n",
    "        y_batch = self.y[it]\n",
    "        self.ib += 1\n",
    "\n",
    "        return {'x_batch': x_batch, 'y_batch': y_batch}"
   ]
  },
  {
   "cell_type": "markdown",
   "id": "organized-charger",
   "metadata": {},
   "source": [
    "### Class GradientDescent\n",
    "\n",
    "This class summarises the gradient descent steps. The training and test data is given as dictionary (c.f. cell directly below the class definition for an example). The class can be called, however only a dummy implementation is given (weigths w and bias b are always 0). Replace the dummy parts with your own implementation and test it."
   ]
  },
  {
   "cell_type": "code",
   "execution_count": 5,
   "id": "removed-commons",
   "metadata": {},
   "outputs": [],
   "source": [
    "class GradientDescent:\n",
    "    \"\"\"\n",
    "    obtains train and test data in the constructor and does the gradient descend\n",
    "    \"\"\"\n",
    "\n",
    "    def __init__(self, data, alpha=0.1, batch_size=256, num_hidden=15):\n",
    "        \"\"\"\n",
    "        constructor\n",
    "\n",
    "        Arguments:\n",
    "        data -- dictionary with data\n",
    "        alpha -- learning rate\n",
    "        batch_size -- size of batches to be used\n",
    "        num_hidden -- number of hidden neurons\n",
    "        \"\"\"\n",
    "        # keep local copy of data\n",
    "        self.data = data.copy()\n",
    "        self.alpha = alpha\n",
    "        self.batch_size = batch_size\n",
    "        self.num_hidden = num_hidden\n",
    "\n",
    "        # normalize data\n",
    "        self.normalise_data()\n",
    "\n",
    "        # initialize weights and bias \n",
    "        self.initialise_weights()\n",
    "\n",
    "        # result array \n",
    "        self.result_data = np.array([])\n",
    "\n",
    "        \n",
    "    def normalise_data(self):\n",
    "        \"\"\"\n",
    "        normalize the input data\n",
    "        \"\"\"\n",
    "        # separate normalisation of x and y data\n",
    "        self.x_norm = {'x_mean': np.mean(self.data['data_x']), 'x_std': np.std(self.data['data_x'])}\n",
    "        self.y_norm = {'y_mean': np.mean(self.data['data_y']), 'y_std': np.std(self.data['data_y'])}\n",
    "        \n",
    "        self.data['data_x'] = (self.data['data_x'] - self.x_norm['x_mean'])/self.x_norm['x_std']\n",
    "        self.data['data_y'] = (self.data['data_y'] - self.y_norm['y_mean'])/self.y_norm['y_std']\n",
    "        \n",
    "        \n",
    "    def initialise_weights(self):\n",
    "        \"\"\"\n",
    "        initialise weights\n",
    "        \"\"\"\n",
    "        #abbreviation\n",
    "        n1 = self.num_hidden\n",
    "        # initialize weights and bias (uniform sampling in [-1,1] plus 'correct' scaling)\n",
    "        self.w1 = np.random.uniform(-1,1,n1).reshape(1,n1)/(2*np.sqrt(n1))\n",
    "        self.b1 = np.zeros((1,n1), dtype=float)\n",
    "        self.w2 = np.random.uniform(-1,1,n1).reshape(n1,1)/(2*np.sqrt(n1))\n",
    "        self.b2 = 0.0\n",
    "        \n",
    "            \n",
    "    def append_result(self, res_data):\n",
    "        \"\"\"\n",
    "        append cost and error data to output array\n",
    "        \"\"\"                  \n",
    "        if self.result_data.size == 0:\n",
    "            self.result_data = res_data\n",
    "        else:\n",
    "            self.result_data = np.append(self.result_data, res_data, 0)\n",
    "            \n",
    "            \n",
    "    def cost_funct(self, y_pred, y):\n",
    "        \"\"\"\n",
    "        calculates the chosen cost function for given values of w and b\n",
    "        \"\"\"\n",
    "        m = y.shape[0]\n",
    "        \n",
    "        ### START YOUR CODE ###\n",
    "\n",
    "        cost = (1/(2*m)) * np.sum(np.square(y - y_pred))\n",
    "        \n",
    "        \n",
    "        ### END YOUR CODE ###\n",
    "\n",
    "        return cost\n",
    "\n",
    "    \n",
    "    def grad_cost(self, y_pred):\n",
    "        \"\"\"\n",
    "        calculates the gradients of cost function wrt w and b\n",
    "        \"\"\"\n",
    "        # abbreviation\n",
    "        x = self.batch['x_batch']\n",
    "        y = self.batch['y_batch']\n",
    "        sig = self.sigmoid(x @ self.w1 + self.b1)\n",
    "        m = x.shape[0]\n",
    "        \n",
    "        ### START YOUR CODE ###\n",
    "        grad_w2 = -1/m * np.sum(sig, axis=0) * np.sum(y - y_pred)\n",
    "        grad_w2 = np.array([grad_w2])\n",
    "        ## Correction. Our solution is equal to a factor m. ##\n",
    "        grad_w2 = grad_w2 / m \n",
    "        ################\n",
    "        \n",
    "        n = self.w1.shape[1]\n",
    "        grad_b2 = (-n/m) * np.sum(y - y_pred)\n",
    "        ## Correction. Our solution is equal to a factor n. ##\n",
    "        grad_b2 = grad_b2 / n\n",
    "        ################\n",
    "        \n",
    "        g = -1 * ((sig * (1 - sig)) * self.w2.T) #Basis for several calculus\n",
    "        grad_w1 = np.sum( (g*x) /m * (y - y_pred), axis=0)\n",
    "        grad_w1 = np.array([np.array(grad_w1)])\n",
    "        \n",
    "        grad_b1 = np.sum( g/m * (y - y_pred), axis=0)\n",
    "        grad_b1 = np.array([grad_b1])\n",
    "        ### END YOUR CODE ###\n",
    "        \n",
    "        return {'grad_w1' : grad_w1, 'grad_b1' : grad_b1, 'grad_w2' : grad_w2.T, 'grad_b2' : grad_b2}\n",
    "\n",
    "    \n",
    "    def sigmoid(self, z):\n",
    "        return 1 / (1 + np.exp(-z))\n",
    "    \n",
    "    \n",
    "    def predict(self, x):\n",
    "        \"\"\"\n",
    "        implementation of sigmoid function\n",
    "        \"\"\"        \n",
    "        ### START YOUR CODE ###\n",
    "        yk = self.sigmoid(self.w1 * x + self.b1)\n",
    "        y_pred = yk @ self.w2 + self.b2 #Output doesn't have activation function\n",
    "        ### END YOUR CODE ###\n",
    "        \n",
    "        return y_pred\n",
    "\n",
    "    \n",
    "    def update(self):\n",
    "        \"\"\"\n",
    "        performs one gradient descend step\n",
    "        \"\"\"\n",
    "        # predicted outcome for batch\n",
    "        y_pred = self.predict(self.batch['x_batch'])\n",
    "\n",
    "        grad = self.grad_cost(y_pred)\n",
    "        \n",
    "        ### START YOUR CODE ###\n",
    "        self.w1 = self.w1 - self.alpha * grad['grad_w1']\n",
    "        self.b1 = self.b1 - self.alpha * grad['grad_b1']\n",
    "        self.w2 = self.w2 - self.alpha * grad['grad_w2']\n",
    "        self.b2 = self.b2 - self.alpha * grad['grad_b2']\n",
    "        ### END YOUR CODE ###\n",
    "\n",
    "        \n",
    "    def save_results(self, i_step):\n",
    "        # predicted outcome for entire sample set\n",
    "        self.y_pred = self.predict(self.data['data_x'])\n",
    "\n",
    "        # determine cost functions for entire sample set\n",
    "        self.cost = self.cost_funct(self.y_pred, self.data['data_y'])\n",
    "\n",
    "        res_data = np.array([[i_step, self.cost]])\n",
    "\n",
    "        self.append_result(res_data)\n",
    "\n",
    "        return res_data\n",
    "\n",
    "\n",
    "    def optimise(self, epochs, debug = False):\n",
    "        \"\"\"\n",
    "        performs epochs number of gradient descend steps and appends result to output array\n",
    "\n",
    "        Arguments:\n",
    "        debug -- False (default)/True; get info on each gradient descend step\n",
    "        \"\"\"\n",
    "        # save results before step\n",
    "        res_data = self.save_results(0)\n",
    "\n",
    "        for i0 in range(0, epochs):\n",
    "            # create batches for each epoch\n",
    "            batches = MiniBatches(self.data['data_x'], self.data['data_y'], self.batch_size)\n",
    "\n",
    "            for ib in range(batches.number_of_batches()):\n",
    "                self.batch = batches.next()\n",
    "                self.update()\n",
    "\n",
    "            #save data\n",
    "            res_data = self.save_results(i0+1)\n",
    "\n",
    "            if debug and np.mod(i0, 1) == 0:\n",
    "                print('step %r, cost %r' % (i0, res_data[0, 1]))\n",
    "\n",
    "        print('result after %d epochs: cost %.5f' % (epochs, res_data[0, 1]))\n",
    "        \n",
    "        #return unnormalised data\n",
    "        return self.y_pred*self.y_norm['y_std'] + self.y_norm['y_mean']\n"
   ]
  },
  {
   "cell_type": "markdown",
   "id": "adapted-reputation",
   "metadata": {},
   "source": [
    "### Sample execution of gradient descent\n",
    "\n",
    "The cell below shows how to use the class GradientDescent to perform the optimisation. The training and test data is given as dictionary in the constructor of the class. Then the method optimise is called with first argument being the number of epochs.\n"
   ]
  },
  {
   "cell_type": "code",
   "execution_count": 49,
   "id": "colored-facility",
   "metadata": {},
   "outputs": [
    {
     "name": "stdout",
     "output_type": "stream",
     "text": [
      "result after 500 epochs: cost 0.51245\n"
     ]
    },
    {
     "data": {
      "text/plain": [
       "[<matplotlib.lines.Line2D at 0x7fe2acbd6c70>]"
      ]
     },
     "execution_count": 49,
     "metadata": {},
     "output_type": "execute_result"
    },
    {
     "data": {
      "image/png": "[encoded data removed]",
      "text/plain": [
       "<Figure size 640x480 with 1 Axes>"
      ]
     },
     "metadata": {},
     "output_type": "display_data"
    }
   ],
   "source": [
    "m = 100\n",
    "func = beta_fct\n",
    "vargs={'alpha':2.0,'beta':2.0}\n",
    "#func = sin_fct\n",
    "#vargs={'omega':1}\n",
    "\n",
    "data = generate_inputs(m,func,vargs=vargs, random=False, sigmaY=0.01)\n",
    "\n",
    "# alpha, batch size, number\n",
    "\n",
    "gradD = GradientDescent(data, 0.2, 10, 10)\n",
    "\n",
    "data_y_pred = gradD.optimise(500, False)\n",
    "\n",
    "plt.plot(data['data_x'][:,0], data['data_y'][:,0],'b+')\n",
    "plt.plot(data['data_x'][:,0], data_y_pred[:,0],'g-')"
   ]
  },
  {
   "cell_type": "code",
   "execution_count": 7,
   "id": "polyphonic-julian",
   "metadata": {},
   "outputs": [
    {
     "data": {
      "text/plain": [
       "[<matplotlib.lines.Line2D at 0x7fe2ae2d0490>]"
      ]
     },
     "execution_count": 7,
     "metadata": {},
     "output_type": "execute_result"
    },
    {
     "data": {
      "image/png": "[encoded data removed]",
      "text/plain": [
       "<Figure size 640x480 with 1 Axes>"
      ]
     },
     "metadata": {},
     "output_type": "display_data"
    }
   ],
   "source": [
    "#do analysis for test data\n",
    "data_test = generate_inputs(m,func,vargs=vargs, random=False, sigmaY=0.01)\n",
    "\n",
    "#normalise x data\n",
    "data_test['data_x'] = (data_test['data_x'] - gradD.x_norm['x_mean'])/gradD.x_norm['x_std']\n",
    "\n",
    "#predict and un-normalise\n",
    "data_test_y_pred = gradD.predict(data_test['data_x'])\n",
    "\n",
    "data_test_y_pred = data_test_y_pred*gradD.y_norm['y_std'] + gradD.y_norm['y_mean']\n",
    "\n",
    "plt.plot(data_test['data_x'][:,0], data_test['data_y'][:,0],'r+')\n",
    "plt.plot(data_test['data_x'][:,0], data_test_y_pred[:,0],'g-')"
   ]
  },
  {
   "cell_type": "code",
   "execution_count": 8,
   "id": "sought-conference",
   "metadata": {},
   "outputs": [
    {
     "data": {
      "image/png": "[encoded data removed]",
      "text/plain": [
       "<Figure size 640x480 with 1 Axes>"
      ]
     },
     "metadata": {},
     "output_type": "display_data"
    }
   ],
   "source": [
    "#analyse cost as function of epochs\n",
    "epochs = gradD.result_data[:,0]\n",
    "train_costs = gradD.result_data[:,1]\n",
    "\n",
    "\n",
    "plt.semilogy(epochs, train_costs, label=\"train\")\n",
    "plt.ylabel('Cost')\n",
    "plt.xlabel('Epochs')\n",
    "xmax = epochs[-1]\n",
    "ymin = 2e-4\n",
    "ymax = 1\n",
    "plt.axis([0,xmax,ymin,ymax])\n",
    "plt.legend()\n",
    "plt.show() "
   ]
  },
  {
   "cell_type": "markdown",
   "id": "whole-testament",
   "metadata": {},
   "source": [
    "# Unit Tests \n",
    "### Unit Test for predict"
   ]
  },
  {
   "cell_type": "code",
   "execution_count": 9,
   "id": "actual-generation",
   "metadata": {},
   "outputs": [],
   "source": [
    "#create dummy instance\n",
    "data = {'data_x': np.array([[1],[2]]), 'data_y':np.array([[1],[2]])}\n",
    "gradD = GradientDescent(data, 0.1, 20, 50)\n",
    "\n",
    "gradD.w1 = np.array([0.4,0.2,-0.4]).reshape(1,3)\n",
    "gradD.b1 = np.array([0.1,0.1,0.1]).reshape(1,3)\n",
    "gradD.w2 = np.array([1,2,1]).reshape(3,1)\n",
    "gradD.b2 = -1\n",
    "x = np.linspace(-1,1,5).reshape((5,1))\n",
    "y_pred = gradD.predict(x)\n",
    "y_exp = np.array([0.99805844, 1.04946333, 1.09991675, 1.14913132, 1.19690185]).reshape(5,1)\n",
    "np.testing.assert_array_almost_equal(y_pred,y_exp,decimal=8)"
   ]
  },
  {
   "cell_type": "markdown",
   "id": "dressed-tokyo",
   "metadata": {},
   "source": [
    "### Unit Test for cost\n",
    "Assumes that Unit Test for predict is correct!"
   ]
  },
  {
   "cell_type": "code",
   "execution_count": 10,
   "id": "aggressive-patrol",
   "metadata": {},
   "outputs": [],
   "source": [
    "#create dummy instance\n",
    "data = {'data_x': np.array([[1],[2]]), 'data_y':np.array([[1],[2]])}\n",
    "gradD = GradientDescent(data, 0.1, 20, 50)\n",
    "\n",
    "gradD.w1 = np.array([4,5,6]).reshape(1,3)\n",
    "gradD.b1 = np.array([1,1,1]).reshape(1,3)\n",
    "gradD.w2 = np.array([1,2,3]).reshape(3,1)\n",
    "gradD.b2 = 2\n",
    "x = np.linspace(-1,1,5).reshape(5,1)\n",
    "y_pred = gradD.predict(x)\n",
    "y = 2.0*np.ones(5).reshape(5,1)\n",
    "c = gradD.cost_funct(y_pred, y)\n",
    "cexp = 9.01669099\n",
    "np.testing.assert_almost_equal(c,cexp,decimal=8)"
   ]
  },
  {
   "cell_type": "markdown",
   "id": "stone-competition",
   "metadata": {},
   "source": [
    "### Unit Test for grad_cost\n",
    "Assumes that Unit Test for predict is correct!"
   ]
  },
  {
   "cell_type": "code",
   "execution_count": 11,
   "id": "duplicate-issue",
   "metadata": {},
   "outputs": [
    {
     "ename": "AssertionError",
     "evalue": "\nArrays are not almost equal to 8 decimals\n\nMismatched elements: 3 / 3 (100%)\nMax absolute difference: 1.17246562e-05\nMax relative difference: 1.95668811e-06\n x: array([[5.99208079],\n       [5.99579017],\n       [5.99714066]])\n y: array([[5.99209251],\n       [5.99579451],\n       [5.99714226]])",
     "output_type": "error",
     "traceback": [
      "\u001b[0;31m---------------------------------------------------------------------------\u001b[0m",
      "\u001b[0;31mAssertionError\u001b[0m                            Traceback (most recent call last)",
      "Cell \u001b[0;32mIn[11], line 23\u001b[0m\n\u001b[1;32m     21\u001b[0m np\u001b[39m.\u001b[39mtesting\u001b[39m.\u001b[39massert_array_almost_equal(grad[\u001b[39m'\u001b[39m\u001b[39mgrad_w1\u001b[39m\u001b[39m'\u001b[39m],dw1exp,decimal\u001b[39m=\u001b[39m\u001b[39m8\u001b[39m)\n\u001b[1;32m     22\u001b[0m np\u001b[39m.\u001b[39mtesting\u001b[39m.\u001b[39massert_array_almost_equal(grad[\u001b[39m'\u001b[39m\u001b[39mgrad_b1\u001b[39m\u001b[39m'\u001b[39m],db1exp,decimal\u001b[39m=\u001b[39m\u001b[39m8\u001b[39m)\n\u001b[0;32m---> 23\u001b[0m np\u001b[39m.\u001b[39;49mtesting\u001b[39m.\u001b[39;49massert_array_almost_equal(grad[\u001b[39m'\u001b[39;49m\u001b[39mgrad_w2\u001b[39;49m\u001b[39m'\u001b[39;49m],dw2exp,decimal\u001b[39m=\u001b[39;49m\u001b[39m8\u001b[39;49m)\n\u001b[1;32m     24\u001b[0m np\u001b[39m.\u001b[39mtesting\u001b[39m.\u001b[39massert_almost_equal(grad[\u001b[39m'\u001b[39m\u001b[39mgrad_b2\u001b[39m\u001b[39m'\u001b[39m],db2exp,decimal\u001b[39m=\u001b[39m\u001b[39m8\u001b[39m)\n",
      "    \u001b[0;31m[... skipping hidden 1 frame]\u001b[0m\n",
      "File \u001b[0;32m~/.local/lib/python3.9/site-packages/numpy/testing/_private/utils.py:844\u001b[0m, in \u001b[0;36massert_array_compare\u001b[0;34m(comparison, x, y, err_msg, verbose, header, precision, equal_nan, equal_inf)\u001b[0m\n\u001b[1;32m    840\u001b[0m         err_msg \u001b[39m+\u001b[39m\u001b[39m=\u001b[39m \u001b[39m'\u001b[39m\u001b[39m\\n\u001b[39;00m\u001b[39m'\u001b[39m \u001b[39m+\u001b[39m \u001b[39m'\u001b[39m\u001b[39m\\n\u001b[39;00m\u001b[39m'\u001b[39m\u001b[39m.\u001b[39mjoin(remarks)\n\u001b[1;32m    841\u001b[0m         msg \u001b[39m=\u001b[39m build_err_msg([ox, oy], err_msg,\n\u001b[1;32m    842\u001b[0m                             verbose\u001b[39m=\u001b[39mverbose, header\u001b[39m=\u001b[39mheader,\n\u001b[1;32m    843\u001b[0m                             names\u001b[39m=\u001b[39m(\u001b[39m'\u001b[39m\u001b[39mx\u001b[39m\u001b[39m'\u001b[39m, \u001b[39m'\u001b[39m\u001b[39my\u001b[39m\u001b[39m'\u001b[39m), precision\u001b[39m=\u001b[39mprecision)\n\u001b[0;32m--> 844\u001b[0m         \u001b[39mraise\u001b[39;00m \u001b[39mAssertionError\u001b[39;00m(msg)\n\u001b[1;32m    845\u001b[0m \u001b[39mexcept\u001b[39;00m \u001b[39mValueError\u001b[39;00m:\n\u001b[1;32m    846\u001b[0m     \u001b[39mimport\u001b[39;00m \u001b[39mtraceback\u001b[39;00m\n",
      "\u001b[0;31mAssertionError\u001b[0m: \nArrays are not almost equal to 8 decimals\n\nMismatched elements: 3 / 3 (100%)\nMax absolute difference: 1.17246562e-05\nMax relative difference: 1.95668811e-06\n x: array([[5.99208079],\n       [5.99579017],\n       [5.99714066]])\n y: array([[5.99209251],\n       [5.99579451],\n       [5.99714226]])"
     ]
    }
   ],
   "source": [
    "#create dummy instance\n",
    "data = {'data_x': np.array([[1],[2]]), 'data_y':np.array([[1],[2]])}\n",
    "gradD = GradientDescent(data, 0.1, 20, 50)\n",
    "\n",
    "gradD.w1 = np.array([4,5,6]).reshape(1,3)\n",
    "gradD.b1 = np.array([1,1,1]).reshape(1,3)\n",
    "gradD.w2 = np.array([1,2,3]).reshape(3,1)\n",
    "gradD.b2 = 2\n",
    "\n",
    "x = np.array([1,2,3,4,5,6,7]).reshape((7,1))\n",
    "y_pred = gradD.predict(x)\n",
    "\n",
    "y = np.array([2,2,2,2,2,2,2]).reshape((7,1))\n",
    "gradD.batch = {'x_batch': x, 'y_batch': y}\n",
    "               \n",
    "grad = gradD.grad_cost(y_pred)\n",
    "dw1exp = np.array([0.00590214,0.00427602,0.00234663]).reshape(1,3)\n",
    "db1exp = np.array([0.00579241,0.004247,0.00234079]).reshape(1,3)\n",
    "dw2exp = np.array([5.99209251,5.99579451,5.99714226]).reshape(3,1)\n",
    "db2exp = 5.99792323\n",
    "np.testing.assert_array_almost_equal(grad['grad_w1'],dw1exp,decimal=8)\n",
    "np.testing.assert_array_almost_equal(grad['grad_b1'],db1exp,decimal=8)\n",
    "np.testing.assert_array_almost_equal(grad['grad_w2'],dw2exp,decimal=8)\n",
    "np.testing.assert_almost_equal(grad['grad_b2'],db2exp,decimal=8)"
   ]
  },
  {
   "cell_type": "code",
   "execution_count": null,
   "id": "political-paint",
   "metadata": {},
   "outputs": [],
   "source": []
  }
 ],
 "metadata": {
  "kernelspec": {
   "display_name": "Python 3",
   "language": "python",
   "name": "python3"
  },
  "language_info": {
   "codemirror_mode": {
    "name": "ipython",
    "version": 3
   },
   "file_extension": ".py",
   "mimetype": "text/x-python",
   "name": "python",
   "nbconvert_exporter": "python",
   "pygments_lexer": "ipython3",
   "version": "3.9.5"
  },
  "vscode": {
   "interpreter": {
    "hash": "e7370f93d1d0cde622a1f8e1c04877d8463912d04d973331ad4851f04de6915a"
   }
  }
 },
 "nbformat": 4,
 "nbformat_minor": 5
}
