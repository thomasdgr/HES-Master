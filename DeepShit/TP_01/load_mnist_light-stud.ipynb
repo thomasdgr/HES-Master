{
 "cells": [
  {
   "cell_type": "code",
   "execution_count": 1,
   "id": "dress-detroit",
   "metadata": {},
   "outputs": [
    {
     "name": "stdout",
     "output_type": "stream",
     "text": [
      "<class 'sklearn.utils.Bunch'>\n",
      "dict_keys(['data', 'target', 'frame', 'feature_names', 'target_names', 'images', 'DESCR'])\n",
      "x shape: (1797, 64)\n",
      "y shape: (1797,)\n"
     ]
    }
   ],
   "source": [
    "import numpy as np\n",
    "import matplotlib.pyplot as plt\n",
    "from sklearn import datasets as ds \n",
    "\n",
    "mnist_light = ds.load_digits()\n",
    "\n",
    "#digit is a \"bunch\" i.e. similar to a dictionary\n",
    "print(type(mnist_light))\n",
    "#show the keys of digit\n",
    "print(mnist_light.keys())\n",
    "#get data i.e. the image (x) and labels (y)\n",
    "x = mnist_light['data']\n",
    "y = mnist_light.target\n",
    "#get the respective shape\n",
    "print(\"x shape:\", x.shape)\n",
    "print(\"y shape:\", y.shape)"
   ]
  },
  {
   "cell_type": "code",
   "execution_count": null,
   "id": "elegant-dodge",
   "metadata": {},
   "outputs": [],
   "source": []
  }
 ],
 "metadata": {
  "kernelspec": {
   "display_name": "Python 3",
   "language": "python",
   "name": "python3"
  },
  "language_info": {
   "codemirror_mode": {
    "name": "ipython",
    "version": 3
   },
   "file_extension": ".py",
   "mimetype": "text/x-python",
   "name": "python",
   "nbconvert_exporter": "python",
   "pygments_lexer": "ipython3",
   "version": "3.8.5"
  }
 },
 "nbformat": 4,
 "nbformat_minor": 5
}
