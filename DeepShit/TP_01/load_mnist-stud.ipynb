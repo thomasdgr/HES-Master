{
 "cells": [
  {
   "cell_type": "code",
   "execution_count": 1,
   "id": "dress-detroit",
   "metadata": {},
   "outputs": [
    {
     "name": "stdout",
     "output_type": "stream",
     "text": [
      "C:\\Users\\tazahn\\scikit_learn_data\n"
     ]
    }
   ],
   "source": [
    "import numpy as np\n",
    "import matplotlib.pyplot as plt\n",
    "from sklearn import datasets as ds \n",
    "\n",
    "#get local download folder where data is stored\n",
    "#you may change this in the call fetch_openml() below\n",
    "data_h = ds.get_data_home()\n",
    "print(data_h)"
   ]
  },
  {
   "cell_type": "code",
   "execution_count": 2,
   "id": "foster-uruguay",
   "metadata": {},
   "outputs": [
    {
     "name": "stdout",
     "output_type": "stream",
     "text": [
      "<class 'sklearn.utils.Bunch'>\n",
      "dict_keys(['data', 'target', 'frame', 'categories', 'feature_names', 'target_names', 'DESCR', 'details', 'url'])\n",
      "x shape: (70000, 784)\n",
      "y shape: (70000,)\n"
     ]
    }
   ],
   "source": [
    "#the first time this will download the data from the internet and put to local folder \n",
    "\n",
    "mnist = ds.fetch_openml(name='mnist_784', data_home = data_h)\n",
    "\n",
    "#digit is a \"bunch\" i.e. similar to a dictionary\n",
    "print(type(mnist))\n",
    "#show the keys of digit\n",
    "print(mnist.keys())\n",
    "#get data i.e. the image (x) and labels (y)\n",
    "x = mnist['data']\n",
    "y = mnist.target\n",
    "#get the respective shape\n",
    "print(\"x shape:\", x.shape)\n",
    "print(\"y shape:\", y.shape)"
   ]
  },
  {
   "cell_type": "code",
   "execution_count": null,
   "id": "gentle-singles",
   "metadata": {},
   "outputs": [],
   "source": []
  }
 ],
 "metadata": {
  "kernelspec": {
   "display_name": "Python 3",
   "language": "python",
   "name": "python3"
  },
  "language_info": {
   "codemirror_mode": {
    "name": "ipython",
    "version": 3
   },
   "file_extension": ".py",
   "mimetype": "text/x-python",
   "name": "python",
   "nbconvert_exporter": "python",
   "pygments_lexer": "ipython3",
   "version": "3.8.5"
  }
 },
 "nbformat": 4,
 "nbformat_minor": 5
}
